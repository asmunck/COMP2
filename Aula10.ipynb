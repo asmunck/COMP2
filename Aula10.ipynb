{
 "cells": [
  {
   "cell_type": "markdown",
   "metadata": {
    "id": "ymmPNlTg21wY"
   },
   "source": [
    "# Computação 2 &ndash; Aula 10 &ndash; 2023.3\n",
    "\n",
    "Durante esta aula e a próxima estudaremos sobre **Interfaces Gráficas com Tk em Python**. Elas são importantes para melhorar a usabilidade, a atratividade e a eficácia do software, tornando-o mais acessível e agradável de usar. Elas desempenham um papel fundamental em uma ampla gama de aplicativos, desde aplicativos de desktop tradicionais até ferramentas de automação e protótipos rápidos. As GUIs *(Graphical User Inferfaces)* desempenham um papel crucial em várias disciplinas, melhorando a eficiência, a precisão e a usabilidade em tarefas de *modelagem, análise, projeto, controle e colaboração*. Elas permitem que os profissionais interajam com sistemas complexos e dados técnicos de maneira mais acessível e eficaz, contribuindo para o *avanço das tecnologias e inovações em diversas áreas do conhecimento*.\n",
    "\n",
    "Bons estudos!<br>\n",
    "*Prof. Andréa Lins*<br>\n",
    "\n",
    "---\n"
   ]
  },
  {
   "cell_type": "markdown",
   "metadata": {
    "id": "9lQAy7LL6aww"
   },
   "source": [
    "# Interfaces Gráficas com **Tk**"
   ]
  },
  {
   "cell_type": "markdown",
   "metadata": {
    "id": "tS-DEc487cHE"
   },
   "source": [
    "O pacote **tkinter** é a interface padrão do Python para o kit de ferramentas para interfaces gráficas **Tk**. O **Tk** é usado para criar uma **GUI (Graphical User Inferface)** (como uma nova janela) para sua interface."
   ]
  },
  {
   "cell_type": "markdown",
   "metadata": {
    "id": "dN_zvpLl7VC6"
   },
   "source": [
    "**Obs.:**\n",
    "\n",
    "⛔ Você **não** pode criar uma interface gráfica usando o **Tkinter** no **Google Colab**, pois ele **não** oferece suporte nativo à interface gráfica. O **Colab** é executado no servidor web na nuvem, com isso, **não** é possível abrir uma janela na sua máquina.\n",
    "\n",
    "⛔ Você pode usar o **Tkinter** no **Jupyter Notebook** para criar interfaces gráficas interativas. No entanto, as janelas de interface gráfica **não** serão exibidas diretamente no notebook, mas sim em uma janela *pop-up* fora do ambiente do notebook."
   ]
  },
  {
   "cell_type": "markdown",
   "metadata": {
    "id": "1YX4UQZaemEq"
   },
   "source": [
    "## Usando o **tkinter**"
   ]
  },
  {
   "cell_type": "markdown",
   "metadata": {
    "id": "4sW8OodMemEr"
   },
   "source": [
    "Para utilizar o módulo **Tkinter**, **não** é necessário instalá-lo, pois uma versão desse módulo já vem instalada nos sistemas **Linux** e **MacOS**, mas geralmente não é a versão mais recente. Caso você opte por utilizar uma versão mais recente, verifique como instalar a **Tkinter** em seu computador no site [TkDocs](https://tkdocs.com/tutorial/install.html). Em sistemas **Windows**, você deve verificar se o Python está instalado, caso não esteja, é necessário instalá-lo e garantir que a opção **\"Instalar o Tcl/Tk e o IDLE\"** esteja marcada durante o processo de instalação. Certifique-se de baixar a versão mais recente do Python a partir do [site oficial](https://www.python.org/).\n"
   ]
  },
  {
   "cell_type": "markdown",
   "metadata": {
    "id": "5yj8u4r8emEs"
   },
   "source": [
    "### Importação"
   ]
  },
  {
   "cell_type": "markdown",
   "metadata": {
    "id": "7v52Q64d7V3t"
   },
   "source": [
    "Você poderá importar o **Tkinter** para utilizá-lo em seus *scripts* Python através do comando `import`:\n"
   ]
  },
  {
   "cell_type": "code",
   "execution_count": 1,
   "metadata": {
    "id": "9400-tAUsqT1"
   },
   "outputs": [],
   "source": [
    "import tkinter as tk"
   ]
  },
  {
   "cell_type": "markdown",
   "metadata": {
    "id": "gjZu8ccGuHtu"
   },
   "source": [
    "Para verificar a versão que está sendo usada, utilize o comando:"
   ]
  },
  {
   "cell_type": "code",
   "execution_count": 2,
   "metadata": {
    "id": "b1gWhLqJ29_m"
   },
   "outputs": [
    {
     "data": {
      "text/plain": [
       "'8.6.12'"
      ]
     },
     "execution_count": 2,
     "metadata": {},
     "output_type": "execute_result"
    }
   ],
   "source": [
    "tk.Tcl().eval('info patchlevel')"
   ]
  },
  {
   "cell_type": "markdown",
   "metadata": {
    "id": "hdRJr5p0vqkJ"
   },
   "source": [
    "### Criando a janela principal"
   ]
  },
  {
   "cell_type": "markdown",
   "metadata": {
    "id": "JZqPKCLUemEv"
   },
   "source": [
    "A classe **Tk** é a que define uma janela principal e o interpretador Tcl. Em geral, ela nunca precisa ser instanciada e é instanciada automaticamente quando um **widget filho** é criado. Ela pode, também, ser instanciada explicitamente. Essa classe possui vários métodos, entre os quais:\n",
    "* **title (string)**: Especifica o título da janela.\n",
    "* **geometry(string)**: Especifica tamanho e posição da janela. string tem a forma largura$\\times$altura$+$x$+$y"
   ]
  },
  {
   "cell_type": "code",
   "execution_count": 3,
   "metadata": {
    "id": "YAjNuTr9emEw"
   },
   "outputs": [],
   "source": [
    "import tkinter as tk\n",
    "\n",
    "# criando a janela principal\n",
    "root = tk.Tk()\n",
    "root.title(\"Minha Interface\")\n",
    "\n",
    "# executando a janela principal\n",
    "root.mainloop()"
   ]
  },
  {
   "cell_type": "markdown",
   "metadata": {
    "id": "7M5H2iAdemEw"
   },
   "source": [
    "A função <code>mainloop</code> tem que ser invocada para que a aplicação entre no modo de tratamento de eventos."
   ]
  },
  {
   "cell_type": "markdown",
   "metadata": {
    "id": "05d7mbyOemEx"
   },
   "source": [
    "### ***Widgets***"
   ]
  },
  {
   "cell_type": "markdown",
   "metadata": {
    "id": "Zl1UbtoaemEx"
   },
   "source": [
    "No **Tkinter**, os ***widgets*** são *elementos de interface gráfica* que você pode adicionar a uma janela ou *frame* para criar uma aplicação com uma GUI. Esses ***widgets*** são componentes que permitem que os usuários interajam com o programa, como botões, rótulos, campos de entrada, caixas de seleção, barras de rolagem, entre outros.\n",
    "\n",
    "Alguns exemplos de widgets comuns no **Tkinter** incluem:\n",
    "\n",
    "1. **Label** (Rótulo): É usado para exibir texto ou rótulos em uma janela. Pode ser usado para fornecer informações ou instruções ao usuário.\n",
    "2. **Button** (Botão): Permite que os usuários cliquem nele para acionar ações ou eventos em seu aplicativo.\n",
    "3. **Entry** (Campo de Entrada): É uma área onde os usuários podem inserir texto, como nomes de usuário, senhas ou dados de entrada.\n",
    "4. **Checkbutton** (Caixa de Seleção): Representa uma opção ou escolha binária (marcada/não marcada). Os usuários podem selecionar ou desmarcar uma caixa de seleção.\n",
    "5. **Radiobutton** (Botão de Opção): Permite que os usuários escolham uma opção entre várias opções mutuamente exclusivas. Os botões de opção geralmente são agrupados em conjuntos e apenas um deles pode ser selecionado de cada vez.\n",
    "6. **Listbox** (Caixa de Listagem): Exibe uma lista de itens dos quais os usuários podem selecionar um ou mais.\n",
    "7. **Scrollbar** (Barra de Rolagem): É usado para rolar conteúdo em ***widgets*** como Listbox, Canvas e Text.\n",
    "8. **Frame**: Um contêiner retangular que pode conter outros ***widgets***. Os frames são usados para organizar e agrupar ***widgets***.\n",
    "9. **Canvas** (Tela): É usado para desenhar gráficos, figuras e gráficos personalizados.\n",
    "10. **Menu**: Um painel de menu. Implementa menus de janela, *pulldowns* e *popups*.\n",
    "11. **Message**: Similar ao ***widget*** Label, mas tem mais facilidade para mostrar texto quebrado em linhas.\n",
    "12. **Radiobutton** Representa um possível valor de uma variável que tem um de muitos valores. Clicando o botão, a variável assume aquele valor.\n",
    "13. **Scale** Permite especificar um valor numérico através de um ponteiro em uma escala linear.\n",
    "14. **Scrollbar** Barra de rolamento para ***widgets*** que têm superfície útil variável (Text, Canvas, Entry, Listbox).\n",
    "15. **Text** Exibe e permite editar texto formatado. Também suporta imagens e janelas embutidas.\n",
    "16. **Toplevel** Uma janela separada.\n"
   ]
  },
  {
   "cell_type": "markdown",
   "metadata": {
    "id": "kRMR9tQaemEy"
   },
   "source": [
    "A aparência da janela, dependerá do sistema operacional e das configurações utilizadas. Na Figura 1, podemos ver um exemplo de uma mesma interface gráfica contendo diversos ***widgets***, em três sistemas operacionais distintos: macOS, Windows e Linux."
   ]
  },
  {
   "cell_type": "markdown",
   "metadata": {
    "id": "w8N0zZFjErl9"
   },
   "source": [
    "![widgets-os-scaled![exercicio1-scaled.png](data:image/png;base64,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![exercicio2-1.png](data:image/png;base64,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)).png](data:image/png;base64,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)\n",
    "<br>\n",
    "Figura 1. Interface gráfica contendo diversos widgets no macOS (esquerda), no Windows (centro) e no Linux (esquerda). <br> <font size='2'> Figura extraída de <a href=\"https://tkdocs.com/tutorial/concepts.html#widgets\">https://tkdocs.com/tutorial/concepts.html#widgets</a>\n",
    "</center>"
   ]
  },
  {
   "cell_type": "markdown",
   "metadata": {
    "id": "VO5g7n7xemEy"
   },
   "source": [
    "Para criar um **widget**, tem-se que informar o **widget-pai** (parâmetro master) onde geometricamente deverá ser encaixado e as opções de configuração para o **widget**.\n",
    "Ex.: <code> w = Button(master=pai,text=”Cancelar”,command=cancelar) </code>"
   ]
  },
  {
   "cell_type": "markdown",
   "metadata": {
    "id": "8ZfMMqqkemEy"
   },
   "source": [
    "**Tk** já define por default uma janela principal <code>master=None</code> (default) indica que o **widget** será filho da janela principal. Outras janelas podem ser criadas instanciando-se objetos da classe <code>Toplevel</code>."
   ]
  },
  {
   "cell_type": "markdown",
   "metadata": {
    "id": "qGpK-r_aemEz"
   },
   "source": [
    "### Posicionamento de ***widgets***"
   ]
  },
  {
   "cell_type": "markdown",
   "metadata": {
    "id": "j5427m4bemEz"
   },
   "source": [
    "Os métodos de posicionamento <code>pack(), grid(),</code> e <code>place()</code> podem ser utilizados para posicionar os widgets em uma janela ou frame no **Tkinter**. Usar um desses métodos é altamente recomendado para criar layouts organizados e bem estruturados em sua interface gráfica. Esses métodos facilitam o gerenciamento do posicionamento dos widgets, o que pode ser uma tarefa complexa, especialmente em interfaces mais elaboradas."
   ]
  },
  {
   "cell_type": "markdown",
   "metadata": {
    "id": "LvYL_qGuemEz"
   },
   "source": [
    "### Exemplo 1:"
   ]
  },
  {
   "cell_type": "markdown",
   "metadata": {
    "id": "BYCdH2YLemEz"
   },
   "source": [
    "Neste exemplo, vamos adicionar um rótulo com o texto \"Hello World\" e um botão com o texto \"Bye\" na interface gráfica usando o **tkinter**."
   ]
  },
  {
   "cell_type": "code",
   "execution_count": null,
   "metadata": {
    "id": "culgtABoemEz"
   },
   "outputs": [],
   "source": [
    "import tkinter as tk\n",
    "\n",
    "# criando a janela principal\n",
    "root = tk.Tk()\n",
    "root.title(\"Exemplo\")\n",
    "root.geometry(\"640x480+200+200\")\n",
    "\n",
    "# criando elementos de interface (widgets): rótulo e botão\n",
    "label = tk.Label(root, text=\"Hello World\")\n",
    "button = tk.Button(root, text=\"Bye\", command=root.destroy)\n",
    "\n",
    "# organizando os elementos na janela:\n",
    "label.pack()\n",
    "button.pack()\n",
    "\n",
    "# executando a janela principal:\n",
    "root.mainloop()"
   ]
  },
  {
   "cell_type": "markdown",
   "metadata": {
    "id": "CwPiCQxGemE0"
   },
   "source": [
    "Outra forma de fazer o Exemplo 1, agora utilizando a classe *Application* que herda métodos da classe *Frame*:"
   ]
  },
  {
   "cell_type": "code",
   "execution_count": null,
   "metadata": {
    "id": "9I0TCRrhemE0"
   },
   "outputs": [],
   "source": [
    "from tkinter import *\n",
    "\n",
    "class Application(Frame):\n",
    "    def __init__(self, master=None):\n",
    "        Frame.__init__(self, master)\n",
    "        self.msg = Label(self, text=\"Hello World\")\n",
    "        self.msg.pack ()\n",
    "        self.bye = Button (self, text=\"Bye\", command=master.destroy)\n",
    "        self.bye.pack ()\n",
    "        self.pack()\n",
    "\n",
    "if __name__ == '__main__':\n",
    "    master = Tk()\n",
    "    master.title(\"Exemplo\")\n",
    "    master.geometry(\"640x480+200+200\")\n",
    "    app = Application(master)\n",
    "    mainloop()"
   ]
  },
  {
   "cell_type": "markdown",
   "metadata": {
    "id": "_bGqs7ypemE0"
   },
   "source": [
    "#### Command"
   ]
  },
  {
   "cell_type": "markdown",
   "metadata": {
    "id": "_binInYbemE0"
   },
   "source": [
    "No Tkinter, a opção <code>command</code> é usada para associar uma função a um ***widget***, como um botão, para que a função seja executada quando o ***widget*** é acionado (clique no botão, por exemplo). A função que você associa à opção <code>command</code> é chamada sempre que o evento associado ocorre.\n",
    "\n",
    "A opção <code>command</code> aceita uma função como seu valor, ou seja, você passa o nome da função sem parenteses. Isso permite que a função seja chamada quando o evento ocorrer, em vez de ser executada imediatamente durante a atribuição.\n",
    "\n",
    "Para usar o <code>command</code> no **Tkinter** você pode:\n",
    "1. criar suas próprias funções personalizadas, ou\n",
    "2. usar funções internas do **Tkinter**, como <code>master.destroy()</code> para fechar a janela principal quando um botão \"Sair\" é clicado, ou ainda,\n",
    "3. usar funções lambda para criar funções simples diretamente no local, o que pode ser útil quando você precisa passar argumentos para a função.\n",
    "\n",
    "⛔ Lembre-se de que a função especificada na opção <code>command</code> **não** deve ser chamada com parênteses. Em vez disso, você apenas fornece o nome da função. Quando o evento ocorre (por exemplo, um clique no botão), **Tkinter** chama a função automaticamente.\n",
    "\n",
    "A opção <code>command</code> é uma maneira poderosa de adicionar interatividade à sua interface gráfica, permitindo que você execute ações específicas em resposta a eventos do usuário."
   ]
  },
  {
   "cell_type": "markdown",
   "metadata": {
    "id": "nc8D-_TwemE1"
   },
   "source": [
    "### Exercício 1 [1,0pt]"
   ]
  },
  {
   "cell_type": "markdown",
   "metadata": {
    "id": "_dCOND5wemE1"
   },
   "source": [
    "Crie uma interface gráfica, seguindo o modelo da figura abaixo, ou seja, contendo:\n",
    "* Janela principal,\n",
    "* Campo de texto,\n",
    "* Botão \"Clique!\" e\n",
    "* Botão \"Resetar!\""
   ]
  },
  {
   "cell_type": "markdown",
   "metadata": {
    "id": "Wib7XhHPNK28"
   },
   "source": [
    "<img src=\"Figs/exercicio1.png\">"
   ]
  },
  {
   "cell_type": "code",
   "execution_count": 5,
   "metadata": {
    "id": "ZV9jkIyMemE1"
   },
   "outputs": [
    {
     "name": "stdout",
     "output_type": "stream",
     "text": [
      "Você clicou! Texto: \n",
      "Você clicou! Texto: \n",
      "Você clicou! Texto: \n",
      "Você clicou! Texto: \n",
      "Você clicou! Texto: \n",
      "Você clicou! Texto: \n"
     ]
    }
   ],
   "source": [
    "# Seu código aqui\n",
    "import tkinter as tk\n",
    "\n",
    "def on_click():\n",
    "    texto = campo_texto.get()\n",
    "    print(f'Você clicou! Texto: {texto}')\n",
    "    \n",
    "janela = tk.Tk()\n",
    "campo_texto = tk.Entry(janela)\n",
    "campo_texto.pack()\n",
    "\n",
    "botao_clique = tk.Button(janela, text=\"Clique!\", command=on_click)\n",
    "botao_clique.pack()\n",
    "\n",
    "botao_resetar = tk.Button(janela, text=\"Resetar!\", command=janela.destroy)\n",
    "botao_resetar.pack()\n",
    "\n",
    "janela.mainloop()"
   ]
  },
  {
   "cell_type": "markdown",
   "metadata": {
    "id": "Mciau-kSemE1"
   },
   "source": [
    "#### Personalizando ***widgets***"
   ]
  },
  {
   "cell_type": "markdown",
   "metadata": {
    "id": "ybtyDcM2emE2"
   },
   "source": [
    "O **Tkinter** fornece várias opções que você pode usar para personalizar a aparência e o comportamento de ***widgets*** em suas aplicações.\n",
    "Dentre as opções de configuração comuns, estão:\n",
    "\n",
    "* <code>text</code> ou <code>label</code>: Define o texto exibido em um ***widget***, como um botão ou um rótulo.\n",
    "* <code>bg</code> ou <code>background</code>: Define a cor de fundo de um ***widget***.\n",
    "* <code>fg</code> ou <code>foreground</code>: Define a cor do texto em um ***widget***.\n",
    "* <code>font</code>: Define a fonte do texto em um ***widget***.\n",
    "* <code>width</code> e <code>height</code>: Define a largura e altura de um ***widget***, como um botão ou uma janela.\n",
    "* <code>relief</code>: Define o relevo da borda ('flat', 'raised', 'ridge', 'sunken', 'groove')\n",
    "\n",
    "As opções devem ser especificadas no construtor, através do método <code>configure</code>. Essas opções permitem personalizar a aparência e o comportamento dos ***widgets*** de acordo com suas preferências. Você pode experimentar diferentes valores para essas opções e adicionar mais personalizações para criar interfaces gráficas de acordo com suas necessidades."
   ]
  },
  {
   "cell_type": "markdown",
   "metadata": {
    "id": "p16HzemIemE2"
   },
   "source": [
    "#### Exemplo 2:"
   ]
  },
  {
   "cell_type": "code",
   "execution_count": null,
   "metadata": {
    "id": "kIi6BaeyemE2"
   },
   "outputs": [],
   "source": [
    "def exemplo2():\n",
    "    master=Tk()\n",
    "    top = Frame(master)\n",
    "    top.pack()\n",
    "    rotulo = Label(top, text=\"Rótulo Exemplo\",\n",
    "    foreground=\"blue\")\n",
    "    rotulo.pack()\n",
    "    rotulo.configure(relief=\"ridge\", font=\"Arial 24 bold\", border=5, background=\"yellow\")\n",
    "    mainloop()\n",
    "\n",
    "if __name__ == '__main__':\n",
    "    exemplo2()"
   ]
  },
  {
   "cell_type": "markdown",
   "metadata": {
    "id": "LNqYNfuremE2"
   },
   "source": [
    "### Exercício 2 [1,0pt]"
   ]
  },
  {
   "cell_type": "markdown",
   "metadata": {
    "id": "ZB2GTouzemE_"
   },
   "source": [
    "Crie uma janela que exibe informações de um aluno em uma universidade, permitindo a seleção do nível de ensino usando Radiobuttons para escolher entre graduação, especialização, mestrado e doutorado, conforme figura abaixo:\n",
    "\n",
    "<img src=\"Figs/exercicio2.png\">\n",
    "\n"
   ]
  },
  {
   "cell_type": "markdown",
   "metadata": {
    "id": "7VLeeo7MIJ7-"
   },
   "source": [
    "**Obs.:** Na interface o usuário poderá inserir o nome e a matrícula do aluno.\n",
    "O nível de ensino (Graduação, Especialização, Mestrado, Doutorado) será selecionado usando Radiobuttons.\n"
   ]
  },
  {
   "cell_type": "code",
   "execution_count": 41,
   "metadata": {
    "id": "Ueio9p24emE_"
   },
   "outputs": [],
   "source": [
    "from tkinter import *\n",
    "\n",
    "root = Tk()\n",
    "root.title(\"Informações do Aluno\")\n",
    "\n",
    "Label(root, text=\"Preencha as informações do aluno:\", font=(\"Arial\", 14)).grid(row=0, column=0, columnspan=2)\n",
    "\n",
    "Label(root, text=\"Nome:\", bg=\"yellow\", width=20).grid(row=1, column=0, columnspan=2)\n",
    "Entry(root).grid(row=2, column=0, columnspan=2)\n",
    "\n",
    "Label(root, text=\"Matricula:\", bg=\"yellow\", width=20).grid(row=3, column=0, columnspan=2)\n",
    "Entry(root).grid(row=4, column=0, columnspan=2)\n",
    "\n",
    "Label(root, text=\"Nível de Ensino:\", bg=\"beige\", width=20).grid(row=5, column=0, columnspan=2)\n",
    "var = StringVar()\n",
    "R1 = Radiobutton(root, text=\"Graduação\", variable=var, value='Graduação')\n",
    "R1.grid(row=6, column=0, columnspan=2)\n",
    "\n",
    "R2 = Radiobutton(root, text=\"Especialização\", variable=var, value='Especialização')\n",
    "R2.grid(row=7, column=0, columnspan=2)\n",
    "\n",
    "R3 = Radiobutton(root, text=\"Mestrado\", variable=var, value='Mestrado')\n",
    "R3.grid(row=8, column=0, columnspan=2)\n",
    "\n",
    "R4 = Radiobutton(root, text=\"Doutorado\", variable=var, value='Doutorado')\n",
    "R4.grid(row=9, column=0, columnspan=2)\n",
    "\n",
    "label = Label(root)\n",
    "label.grid(row=10, column=0, columnspan=2)\n",
    "\n",
    "root.mainloop()"
   ]
  },
  {
   "cell_type": "markdown",
   "metadata": {
    "id": "L-vTG-bcemE_"
   },
   "source": [
    "#### Configure"
   ]
  },
  {
   "cell_type": "markdown",
   "metadata": {
    "id": "AgXFxqj9emFA"
   },
   "source": [
    "O método <code>configure()</code> em **Tkinter** é usado com pares do tipo *opção=valor* para configurar ou atualizar as opções de um ***widget*** após sua criação. Ele é uma maneira de alterar dinamicamente as propriedades de um ***widget***, como a cor de fundo, o texto exibido, a fonte, entre outros. As opções que você pode configurar usando o método <code>configure()</code> dependem do tipo de ***widget*** que você está manipulando. Usado com uma string *“nomeopção”* retorna a configuração da\n",
    "opção com esse nome. A configuração é uma tupla com 5 valores:\n",
    "1. nome do atributo\n",
    "2. nome do atributo no banco de dados (X11)\n",
    "3. nome da classe no banco de dados (X11)\n",
    "4. objeto que representa a opção\n",
    "5. valor corrente da opção\n",
    "\n",
    "Se configure é usado sem argumentos, retorna um dicionário com todas as opções. Pode-se obter diretamente o valor de uma opção usando o\n",
    "método <code>cget</code>."
   ]
  },
  {
   "cell_type": "markdown",
   "metadata": {
    "id": "lgAnhcf-emFA"
   },
   "source": [
    "#### Exemplo 3:"
   ]
  },
  {
   "cell_type": "code",
   "execution_count": null,
   "metadata": {
    "id": "xRtZ4ZXeemFA"
   },
   "outputs": [],
   "source": [
    "def exemplo3():\n",
    "    master=Tk()\n",
    "    top = Frame(master)\n",
    "    top.pack()\n",
    "    rotulo = Label(top, text=\"Rótulo Exemplo\",\n",
    "    foreground=\"yellow\")\n",
    "    rotulo.pack()\n",
    "    rotulo.configure(relief=\"ridge\", font=\"Arial 24 bold\", border=5, background=\"black\")\n",
    "\n",
    "    print(rotulo.configure(\"relief\"))\n",
    "    print(rotulo.configure()[\"relief\"])\n",
    "    print(rotulo.configure(\"relief\")[4])\n",
    "    print(rotulo.cget(\"relief\"))\n",
    "\n",
    "    mainloop()\n",
    "\n",
    "if __name__ == '__main__':\n",
    "    exemplo3()"
   ]
  },
  {
   "cell_type": "markdown",
   "metadata": {
    "id": "eGXTkWY8emFA"
   },
   "source": [
    "### Exercício 3 [0,5pt]\n",
    "Altere:\n",
    "\n",
    "a) o relief para uma dessas opções ('flat', 'raised', 'sunken', 'groove').\n",
    "\n",
    "b) o foreground para lightyellow e o background para black.\n",
    "\n",
    "Imprima os valores de a) e b) usando configure e cget.\n"
   ]
  },
  {
   "cell_type": "code",
   "execution_count": 30,
   "metadata": {
    "id": "7j_jC5ZBemFA"
   },
   "outputs": [
    {
     "name": "stdout",
     "output_type": "stream",
     "text": [
      "raised\n",
      "lightyellow\n",
      "black\n"
     ]
    }
   ],
   "source": [
    "# Seu código aqui\n",
    "def exemplo3():\n",
    "    master=Tk()\n",
    "    top = Frame(master)\n",
    "    top.pack()\n",
    "    rotulo = Label(top, text=\"Rótulo Exemplo\",\n",
    "    foreground=\"lightyellow\")\n",
    "    rotulo.pack()\n",
    "    rotulo.configure(relief=\"raised\", font=\"Arial 24 bold\", border=5, background=\"black\")\n",
    "\n",
    "    print(rotulo.cget(\"relief\"))\n",
    "    print(rotulo.cget(\"foreground\"))\n",
    "    print(rotulo.cget(\"background\"))\n",
    "\n",
    "    mainloop()\n",
    "\n",
    "if __name__ == '__main__':\n",
    "    exemplo3()"
   ]
  },
  {
   "cell_type": "markdown",
   "metadata": {
    "id": "cNzH_slWemFB"
   },
   "source": [
    "#### StringVar"
   ]
  },
  {
   "cell_type": "markdown",
   "metadata": {
    "id": "RN0qnZRHemFB"
   },
   "source": [
    "A função <code>tk.StringVar()</code> é usada no Tkinter para criar uma variável especial associada a um widget, como um Radiobutton, Checkbutton, Entry ou Listbox. Essa variável é frequentemente usada para rastrear e atualizar o estado ou valor do widget. A função tk.StringVar() cria uma instância de uma variável de controle de string.\n",
    "\n",
    "A principal finalidade da StringVar é manter uma conexão bidirecional entre o valor da variável e o widget associado. Isso significa que se você alterar o valor da variável, o widget refletirá automaticamente essa alteração, e vice-versa. Isso é particularmente útil quando você deseja que a interface do usuário seja atualizada dinamicamente com base nas interações do usuário.\n",
    "\n",
    "Por exemplo, você pode criar um Radiobutton que permite ao usuário escolher entre \"Opção A\" e \"Opção B\" e vinculá-lo a uma StringVar. Quando o usuário selecionar uma opção no Radiobutton, a variável StringVar refletirá essa seleção, e você pode ler ou atualizar o valor da variável conforme necessário."
   ]
  },
  {
   "cell_type": "markdown",
   "metadata": {
    "id": "ePHm2fFtemFB"
   },
   "source": [
    "#### Exemplo 4:"
   ]
  },
  {
   "cell_type": "code",
   "execution_count": null,
   "metadata": {
    "id": "O2itksvcemFB"
   },
   "outputs": [],
   "source": [
    "import tkinter as tk\n",
    "\n",
    "janela = tk.Tk()\n",
    "janela.title(\"Exemplo com StringVar\")\n",
    "\n",
    "# Criando uma variável de controle de string\n",
    "selecao_var = tk.StringVar()\n",
    "\n",
    "# Radiobuttons\n",
    "rb1 = tk.Radiobutton(janela, text=\"Opção A\", variable=selecao_var, value=\"Opção A\")\n",
    "rb2 = tk.Radiobutton(janela, text=\"Opção B\", variable=selecao_var, value=\"Opção B\")\n",
    "\n",
    "rb1.pack()\n",
    "rb2.pack()\n",
    "\n",
    "janela.mainloop()"
   ]
  },
  {
   "cell_type": "markdown",
   "metadata": {
    "id": "aBOIuMKcemFB"
   },
   "source": [
    "## Gerenciando geometrias"
   ]
  },
  {
   "cell_type": "markdown",
   "metadata": {
    "id": "Z8fvCQWEemFC"
   },
   "source": [
    "O método <code>pack()</code> é um dos gerenciadores de geometria no Tkinter que permite organizar widgets em um recipiente, como uma janela ou um frame, empilhando-os vertical ou horizontalmente. A principal ideia do pack() é que os widgets são dispostos em sequência, um abaixo do outro (verticalmente) ou um ao lado do outro (horizontalmente), dependendo das opções que você especifica.\n",
    "\n",
    "Dentre as opções que você pode usar, estão:\n",
    "\n",
    "1. side (lado): Esta opção determina o lado em que o widget será empacotado. Pode ser \"top\" (acima), \"bottom\" (abaixo), \"left\" (esquerda) ou \"right\" (direita). Por padrão, os widgets são empacotados na parte superior.\n",
    "2. fill (preenchimento): Define como o widget preencherá o espaço disponível. Pode ser \"x\" (preencher horizontalmente), \"y\" (preencher verticalmente) ou \"both\" (preencher ambos os lados). A opção padrão é \"none\" (nenhum preenchimento).\n",
    "3. expand (expansão): Esta opção determina se o widget pode expandir para ocupar todo o espaço disponível. Pode ser um valor booleano, como True ou False. Se expand for definido como True, o widget se expandirá para preencher o espaço extra.\n",
    "4. anchor (âncora): Define a posição do widget dentro do espaço alocado. Pode ser uma combinação de valores como \"n\" (norte), \"s\" (sul), \"e\" (leste), \"w\" (oeste), \"nw\" (nordeste), \"se\" (sudoeste), etc. Essa opção é usada para controlar o posicionamento do widget dentro do espaço alocado.\n",
    "5. padx e pady: permitem definir o preenchimento horizontal (padx) e vertical (pady) em torno do widget. Isso afeta a quantidade de espaço extra ao redor do widget.\n",
    "6. ipadx e ipady: definem o preenchimento interno horizontal (ipadx) e vertical (ipady) dentro do widget. Isso afeta a quantidade de espaço dentro do widget entre o conteúdo e a borda.\n",
    "7. before e after: especifica a ordem de empacotamento de widgets em relação a outros widgets. Por exemplo, before=widget garantirá que o widget atual seja empacotado antes de widget.\n",
    "\n"
   ]
  },
  {
   "cell_type": "markdown",
   "metadata": {
    "id": "ezZS7pEEemFC"
   },
   "source": [
    "#### Exemplo 5:"
   ]
  },
  {
   "cell_type": "code",
   "execution_count": null,
   "metadata": {
    "id": "rM1ZDiOLemFC"
   },
   "outputs": [],
   "source": [
    "from tkinter import *\n",
    "def exemplo5():\n",
    "    master=Tk()\n",
    "    top = Frame(master) ; top.pack()\n",
    "    a = Label (top, text=\"A\") ; a.pack (side=\"left\")\n",
    "    b = Label (top, text=\"B\") ; b.pack (side=\"bottom\")\n",
    "    c = Label (top, text=\"C\") ; c.pack (side=\"right\")\n",
    "    d = Label (top, text=\"D\") ; d.pack (side=\"top\")\n",
    "    for widget in (a,b,c,d):\n",
    "        widget.configure(relief=\"groove\", border=10, font=\"Times 24 bold\")\n",
    "    mainloop()\n",
    "if __name__ == '__main__':\n",
    "    exemplo5()"
   ]
  },
  {
   "cell_type": "markdown",
   "metadata": {
    "id": "Or2QtQSyemFC"
   },
   "source": [
    "### Exercício 4 [1,5 pt]"
   ]
  },
  {
   "cell_type": "markdown",
   "metadata": {
    "id": "wRqDieESemFC"
   },
   "source": [
    "a) [1,0 pt] Crie uma janela com um rótulo, um botão, e uma entrada de texto como na figura abaixo:\n",
    "\n",
    "<img src=\"Figs/exercicio4-1.png\">\n",
    "\n"
   ]
  },
  {
   "cell_type": "markdown",
   "metadata": {
    "id": "qdFtoiiuKgNO"
   },
   "source": [
    "**Dicas:**\n",
    "1. Para o rótulo (Label), defina a cor de fundo (bg), a cor do texto (fg), a fonte (font), e adicione preenchimento horizontal (fill=\"x\").\n",
    "2. Para o campo de entrada (Entry), defina a cor de fundo (bg), a fonte (font), e adicione preenchimento horizontal (fill=\"x\").\n",
    "3. Para o botão (Bottom), defina o texto, a função a ser chamada quando clicado, a cor de fundo (bg), a cor do texto (fg), a fonte (font), e adicione preenchimento horizontal (fill=\"x\").\n",
    "4. Para o rótulo de resultado (Label), definimos a fonte (font) e adicione preenchimento horizontal (fill=\"x\").\n"
   ]
  },
  {
   "cell_type": "code",
   "execution_count": 32,
   "metadata": {
    "id": "q1KC_O90emFD"
   },
   "outputs": [],
   "source": [
    "# Seu código aqui\n",
    "from tkinter import *\n",
    "\n",
    "def on_button_click():\n",
    "    pass\n",
    "\n",
    "root = Tk()\n",
    "\n",
    "label = Label(root, text=\"Digite algo:\", bg=\"blue\", fg=\"white\", font=\"Arial 14\")\n",
    "label.pack(fill=\"x\")\n",
    "\n",
    "entry = Entry(root, bg=\"white\", font=\"Arial 14\")\n",
    "entry.pack(fill=\"x\")\n",
    "\n",
    "button = Button(root, text=\"Clique em mim\", command=on_button_click, bg=\"green\", fg=\"white\", font=\"Arial 14\")\n",
    "button.pack(fill=\"x\")\n",
    "\n",
    "result_label = Label(root, font=\"Arial 14\")\n",
    "result_label.pack(fill=\"x\")\n",
    "\n",
    "root.mainloop()"
   ]
  },
  {
   "cell_type": "markdown",
   "metadata": {
    "id": "nyoWxZp0emFD"
   },
   "source": [
    "b) [0,5 pt] Após digitar um texto e clicar no botão \"Clique em Mim\" exiba o texto que foi digitado, conforme figura abaixo:\n",
    "\n",
    "<img src=\"Figs/exercicio4-2.png\">\n",
    "\n"
   ]
  },
  {
   "cell_type": "markdown",
   "metadata": {
    "id": "0-hr73hDK2TY"
   },
   "source": [
    "**Dica:** Crie uma função para exibir o texto digitado. Use o método <code>get()</code> para obter o texto. Use um <code>Label</code> para imprimir o texto digitado."
   ]
  },
  {
   "cell_type": "code",
   "execution_count": 38,
   "metadata": {
    "id": "JYw0ZwAvemFD"
   },
   "outputs": [],
   "source": [
    "# Seu código aqui\n",
    "from tkinter import *\n",
    "\n",
    "def on_button_click():\n",
    "    text = entry.get()\n",
    "    result_label.config(text='Você digitou:' + text)\n",
    "\n",
    "root = Tk()\n",
    "\n",
    "label = Label(root, text=\"Digite algo:\", bg=\"blue\", fg=\"white\", font=\"Arial 14\")\n",
    "label.pack(fill=\"x\")\n",
    "\n",
    "entry = Entry(root, bg=\"white\", font=\"Arial 14\")\n",
    "entry.pack(fill=\"x\")\n",
    "\n",
    "button = Button(root, text=\"Clique aqui\", command=on_button_click, bg=\"green\", fg=\"white\", font=\"Arial 14\")\n",
    "button.pack(fill=\"x\")\n",
    "\n",
    "result_label = Label(root, font=\"Arial 14\")\n",
    "result_label.pack(fill=\"x\")\n",
    "\n",
    "root.mainloop()"
   ]
  },
  {
   "cell_type": "markdown",
   "metadata": {
    "id": "8gfSIEs-emFD"
   },
   "source": [
    "### Exercício 5 [1,0 pt]\n",
    "\n"
   ]
  },
  {
   "cell_type": "markdown",
   "metadata": {
    "id": "JGQsasIvemFD"
   },
   "source": [
    "Na interface do Exercício 2, acrescente o botão \"Exibir Informações\" para exibir as informações do aluno, conforme figura abaixo:\n",
    "\n",
    "<img src=\"Figs/exercicio5.png\">\n",
    "\n"
   ]
  },
  {
   "cell_type": "code",
   "execution_count": 42,
   "metadata": {
    "id": "hFZ_LAJPemFE"
   },
   "outputs": [],
   "source": [
    "# Seu código aqui\n",
    "from tkinter import *\n",
    "\n",
    "def exibir_informacoes():\n",
    "    nome = entrada_nome.get()\n",
    "    matricula = entrada_matricula.get()\n",
    "    nivel = var.get()\n",
    "    rotulo.config(text=f\"Nome: {nome}\\nMatricula: {matricula}\\nNível de Ensino: {nivel}\")\n",
    "\n",
    "root = Tk()\n",
    "root.title(\"Informações do Aluno\")\n",
    "\n",
    "Label(root, text=\"Preencha as informações do aluno:\", font=(\"Arial\", 14)).grid(row=0, column=0, columnspan=2)\n",
    "\n",
    "Label(root, text=\"Nome:\", bg=\"yellow\", width=20).grid(row=1, column=0, columnspan=2)\n",
    "entrada_nome = Entry(root)\n",
    "entrada_nome.grid(row=2, column=0, columnspan=2)\n",
    "\n",
    "Label(root, text=\"Matricula:\", bg=\"yellow\", width=20).grid(row=3, column=0, columnspan=2)\n",
    "entrada_matricula = Entry(root)\n",
    "entrada_matricula.grid(row=4, column=0, columnspan=2)\n",
    "\n",
    "Label(root, text=\"Nível de Ensino:\", bg=\"beige\", width=20).grid(row=5, column=0, columnspan=2)\n",
    "var = StringVar()\n",
    "R1 = Radiobutton(root, text=\"Graduação\", variable=var, value='Graduação')\n",
    "R1.grid(row=6, column=0, columnspan=2)\n",
    "\n",
    "R2 = Radiobutton(root, text=\"Especialização\", variable=var, value='Especialização')\n",
    "R2.grid(row=7, column=0, columnspan=2)\n",
    "\n",
    "R3 = Radiobutton(root, text=\"Mestrado\", variable=var, value='Mestrado')\n",
    "R3.grid(row=8, column=0, columnspan=2)\n",
    "\n",
    "R4 = Radiobutton(root, text=\"Doutorado\", variable=var, value='Doutorado')\n",
    "R4.grid(row=9, column=0, columnspan=2)\n",
    "\n",
    "Button(root, text=\"Exibir Informações\", command=exibir_informacoes).grid(row=10, column=0, columnspan=2)\n",
    "\n",
    "rotulo = Label(root)\n",
    "rotulo.grid(row=11, column=0, columnspan=2)\n",
    "\n",
    "root.mainloop()"
   ]
  },
  {
   "cell_type": "markdown",
   "metadata": {
    "id": "24ZIH0OQNsC5"
   },
   "source": [
    "# Avalie"
   ]
  },
  {
   "cell_type": "markdown",
   "metadata": {
    "id": "GFAC2uerOCXP"
   },
   "source": [
    "O que você achou deste notebook? Dê uma nota de 1 a 5:"
   ]
  },
  {
   "cell_type": "code",
   "execution_count": 43,
   "metadata": {
    "id": "YulIUCZZOIKR"
   },
   "outputs": [
    {
     "name": "stdout",
     "output_type": "stream",
     "text": [
      "O que achei do notebook: 🥰\n"
     ]
    }
   ],
   "source": [
    "nota = 5\n",
    "if 1 <= nota <= 5:\n",
    "  print(\"O que achei do notebook: \" + \"😨😞😐🙂🥰\"[nota-1])\n",
    "else:\n",
    "  print(\"Sem nota\")"
   ]
  }
 ],
 "metadata": {
  "accelerator": "TPU",
  "colab": {
   "provenance": [],
   "toc_visible": true
  },
  "kernelspec": {
   "display_name": "Python 3 (ipykernel)",
   "language": "python",
   "name": "python3"
  },
  "language_info": {
   "codemirror_mode": {
    "name": "ipython",
    "version": 3
   },
   "file_extension": ".py",
   "mimetype": "text/x-python",
   "name": "python",
   "nbconvert_exporter": "python",
   "pygments_lexer": "ipython3",
   "version": "3.11.7"
  }
 },
 "nbformat": 4,
 "nbformat_minor": 1
}
