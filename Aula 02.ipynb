{
 "cells": [
  {
   "cell_type": "code",
   "execution_count": 27,
   "metadata": {},
   "outputs": [],
   "source": [
    "class Cliente:\n",
    "    def __init__(self, nome, cpf):\n",
    "        self.nome = nome\n",
    "        self.cpf = cpf"
   ]
  },
  {
   "cell_type": "code",
   "execution_count": 28,
   "metadata": {},
   "outputs": [],
   "source": [
    "cliente1 = Cliente (\"Leticia\", \"111.111.111-00\")\n",
    "cliente2 = Cliente (\"Gabriel\", \"222.111.111-00\")"
   ]
  },
  {
   "cell_type": "code",
   "execution_count": 30,
   "metadata": {},
   "outputs": [
    {
     "data": {
      "text/plain": [
       "'111.111.111-00'"
      ]
     },
     "execution_count": 30,
     "metadata": {},
     "output_type": "execute_result"
    }
   ],
   "source": [
    "cliente1.cpf\n"
   ]
  },
  {
   "cell_type": "code",
   "execution_count": 31,
   "metadata": {},
   "outputs": [
    {
     "data": {
      "text/plain": [
       "'Gabriel'"
      ]
     },
     "execution_count": 31,
     "metadata": {},
     "output_type": "execute_result"
    }
   ],
   "source": [
    "cliente2.nome"
   ]
  },
  {
   "cell_type": "code",
   "execution_count": 4,
   "metadata": {},
   "outputs": [],
   "source": [
    "class ContaBancaria:\n",
    "    #Nessa primeira versão da classe, definimos o método construtor com a classe cliente e o saldo, além do histórico.\n",
    "    # Também definimos os métodos saque, depósito e extrato, há uma condicional que impede o saque de ser maior do que o saldo na conta.\n",
    "    def __init__(self, cliente, saldo=0):\n",
    "        self.saldo = saldo\n",
    "        self.historico = []\n",
    "        \n",
    "    def saque(self, valor):\n",
    "        valor_anterior = self.saldo\n",
    "        if valor <= self.saldo:\n",
    "            self.saldo -= valor\n",
    "            self.historico.append((f\"Saque de {valor}. O valor anterior era de: {valor_anterior}\"))\n",
    "        else:\n",
    "            return (\"Sem dinheiro.\")\n",
    "            \n",
    "    def deposito(self, valor):\n",
    "        valor_anterior = self.saldo\n",
    "        self.saldo += valor\n",
    "        self.historico.append((f\"Deposito de {valor}. O valor anterior era de {valor_anterior}\"))       \n",
    "\n",
    "    def extrato(self):\n",
    "        print(f\"Histórico:{self.historico}\")"
   ]
  },
  {
   "cell_type": "code",
   "execution_count": 8,
   "metadata": {},
   "outputs": [
    {
     "name": "stdout",
     "output_type": "stream",
     "text": [
      "Histórico:['Saque de 4000. O valor anterior era de: 5000', 'Deposito de 10000. O valor anterior era de 1000']\n"
     ]
    }
   ],
   "source": [
    "Conta1 = ContaBancaria (\"cliente1\", 5000)\n",
    "Conta1.saque(4000)\n",
    "Conta1.deposito(10000)\n",
    "Conta1.extrato()"
   ]
  },
  {
   "cell_type": "code",
   "execution_count": 1,
   "metadata": {},
   "outputs": [
    {
     "data": {
      "text/plain": [
       "'Uma lista de clientes\\nUma lista de contas\\nO nome do banco\\nComo métodos, nossa classe Banco terá:\\n\\nCadastrar um cliente, dados nome e cpf\\nAbrir uma conta, dados o número da conta, os proprietários e o saldo inicial\\nMostrar o resumo de todas as contas'"
      ]
     },
     "execution_count": 1,
     "metadata": {},
     "output_type": "execute_result"
    }
   ],
   "source": [
    "# Agora vamos criar uma classe Banco que tenha como atributos:\n",
    "\n",
    "\"\"\"Uma lista de clientes\n",
    "Uma lista de contas\n",
    "O nome do banco\n",
    "Como métodos, nossa classe Banco terá:\n",
    "\n",
    "Cadastrar um cliente, dados nome e cpf\n",
    "Abrir uma conta, dados o número da conta, os proprietários e o saldo inicial\n",
    "Mostrar o resumo de todas as contas\"\"\""
   ]
  },
  {
   "cell_type": "code",
   "execution_count": 3,
   "metadata": {},
   "outputs": [],
   "source": [
    "class Cliente:\n",
    "    # Nessa funcao definimos a classe cliente, e os instanciamos com nome e cpf através do self.\n",
    "    def __init__(self, nome, cpf):\n",
    "        self.nome = nome\n",
    "        self.cpf = cpf\n",
    "\n",
    "class ContaBancaria:\n",
    "    # Essa classe tem como metodo construtor o numero da conta, titulares e o saldo, alem de um historico de transações.\n",
    "    # Nela também definimos o método saque e depósito, que adiciona as movimentações ao histórico.\n",
    "    def __init__(self, numero_conta, titulares, saldo=0):\n",
    "        self.numero_conta = numero_conta\n",
    "        self.titulares = titulares\n",
    "        self.saldo = saldo\n",
    "        self.historico = []\n",
    "        \n",
    "    def saque(self, valor):\n",
    "        valor_anterior = self.saldo\n",
    "        if valor <= self.saldo:\n",
    "            self.saldo -= valor\n",
    "            self.historico.append(f\"Saque de {valor}. O valor anterior era de: {valor_anterior}\")\n",
    "        else:\n",
    "            return \"Sem dinheiro.\"\n",
    "            \n",
    "    def deposito(self, valor):\n",
    "        valor_anterior = self.saldo\n",
    "        self.saldo += valor\n",
    "        self.historico.append(f\"Depósito de {valor}. O valor anterior era de {valor_anterior}\")\n",
    "\n",
    "class Banco: \n",
    "    def __init__(self, nome):\n",
    "        self.nome = nome\n",
    "        self.clientes = []\n",
    "        self.contas = []\n",
    "        \n",
    "    def cadastrar(self, nome, cpf):\n",
    "        cliente = Cliente(nome, cpf)\n",
    "        self.clientes.append(cliente)\n",
    "        \n",
    "    def abrirConta(self, numero_conta, titulares, saldo=0):\n",
    "        conta = ContaBancaria(numero_conta, titulares, saldo)\n",
    "        self.contas.append(conta)\n",
    "\n",
    "    def resumoContas(self):\n",
    "        print(f\"Resumo de todas as contas do banco {self.nome}:\")\n",
    "        for conta in self.contas:\n",
    "            print(f\"Conta: {conta.numero_conta}\")\n",
    "            print(f\"Titulares: {', '.join(titular.nome for titular in conta.titulares)}\")\n",
    "            print(f\"Saldo: R${conta.saldo}\")\n"
   ]
  },
  {
   "cell_type": "code",
   "execution_count": 14,
   "metadata": {},
   "outputs": [
    {
     "name": "stdout",
     "output_type": "stream",
     "text": [
      "Resumo de todas as contas do banco Tatu:\n",
      "Conta: 001\n",
      "Titulares: Silas\n",
      "Saldo: R$10000\n",
      "Conta: 002\n",
      "Titulares: Junior\n",
      "Saldo: R$500\n",
      "Conta: 003\n",
      "Titulares: Thiago\n",
      "Saldo: R$1200\n"
     ]
    }
   ],
   "source": [
    "# Exemplo de uso:\n",
    "banco1 = Banco(\"Tatu\")\n",
    "\n",
    "# Cadastrar clientes\n",
    "banco1.cadastrar(\"Silas\", \"123.456.789-00\")\n",
    "banco1.cadastrar(\"Junior\", \"987.654.321-00\")\n",
    "banco1.cadastrar(\"Thiago\", \"123.321.932-00\")\n",
    "\n",
    "# Abrir contas\n",
    "banco1.abrirConta(\"001\", [banco1.clientes[0]], 10000)\n",
    "banco1.abrirConta(\"002\", [banco1.clientes[1]], 500)\n",
    "banco1.abrirConta(\"003\", [banco1.clientes[2]], 1200)\n",
    "# Resumo de todas as contas\n",
    "banco1.resumoContas()\n"
   ]
  },
  {
   "cell_type": "markdown",
   "metadata": {},
   "source": [
    "**1) O que é uma classe?**\n",
    "\n",
    "**2) O que seria uma instância de classe?**\n",
    "\n",
    "**3) O que são métodos e atributos de classe?**\n",
    "\n",
    "**4) Como se define um construtor e quando ele será chamado?**\n",
    "\n",
    "**5) Para que serve a palavra-chave self?**"
   ]
  },
  {
   "cell_type": "markdown",
   "metadata": {},
   "source": [
    "1. Classe é uma definição de um sistema, por exemplo, carros seriam o sistema, e seus objetos seriam coisas como: chassi, ano, marca e outras variáveis que podem ser atribuídos àquele tipo de definição, que pode variar desde conceitos até coisas mais complexas.\n",
    "\n",
    "2. Uma instância é a materialização de uma classe, não basta a classe ser criada para ser instanciada, pois ela só passa a realmente ter uma efetividade quando é materializada através de métodos e atributos dados à ela.\n",
    "\n",
    "3. Atributos são classificações daquela classe, que no exemplo de um banco poderia ser: cpf, nomes de clientes, número da conta, etc. Métodos são comandos utilizados para a realização de atos, como por exemplo, método de criar conta, método de cadastrar cliente, método de classificar um banco, etc.\n",
    "\n",
    "4. O construtor é definido através do comando \"__init__\", na qual é instanciada os atributos de uma classe.\n",
    "\n",
    "5. A palavra self serve para fazer a instanciação de atributos ao objeto da classe, além disso, sem o uso desse argumento, seria criada uma variável simples dentro do método, e não uma materialização do objeto."
   ]
  }
 ],
 "metadata": {
  "kernelspec": {
   "display_name": "Python 3",
   "language": "python",
   "name": "python3"
  },
  "language_info": {
   "codemirror_mode": {
    "name": "ipython",
    "version": 3
   },
   "file_extension": ".py",
   "mimetype": "text/x-python",
   "name": "python",
   "nbconvert_exporter": "python",
   "pygments_lexer": "ipython3",
   "version": "3.11.7"
  }
 },
 "nbformat": 4,
 "nbformat_minor": 2
}
