{
 "cells": [
  {
   "cell_type": "code",
   "execution_count": 65,
   "metadata": {},
   "outputs": [
    {
     "name": "stdout",
     "output_type": "stream",
     "text": [
      "C3PO: ???\n",
      "Désiré: Miau!\n",
      "Minhoca: Grraawh\n",
      "Altura da Minhoca: 171 cm\n"
     ]
    }
   ],
   "source": [
    "class Pet:\n",
    "    def __init__(self, nome, idade, dono=''):\n",
    "        self.nome = nome\n",
    "        self.idade = idade\n",
    "        self.dono = dono\n",
    "\n",
    "    def fala(self):\n",
    "        print(f'{self.nome}: ???')\n",
    "\n",
    "# TESTE\n",
    "um_pet = Pet('C3PO', 123, 'Lucas')\n",
    "um_pet.fala()\n",
    "\n",
    "class Gato(Pet):\n",
    "#       ^^^^^\n",
    "# O nome da classe mãe fica entre parênteses\n",
    "\n",
    "    def fala(self):\n",
    "        print(f'{self.nome}: Miau!')\n",
    "\n",
    "# TESTE\n",
    "desire = Gato('Désiré', 3, 'Ana')\n",
    "desire.fala()\n",
    "\n",
    "\"\"\"## Exercício 1 - Classe Girafa\n",
    "Todo mundo sabe o barulho que as girafas fazem né? Suponha que você esteja codando um sistema de gerenciamento de zoológicos. \n",
    "Crie uma classe `Girafa` derivade de `Pet`, adicione um atributo `altura` e redefina o método `fala`.\"\"\"\n",
    "\n",
    "class Girafa(Pet):\n",
    "    def __init__(self, nome, idade, dono='', altura = 0):\n",
    "        super().__init__(nome, idade, dono)\n",
    "        self.altura = altura\n",
    "    def fala(self):\n",
    "        print(f'{self.nome}: Grraawh')\n",
    "        \n",
    "minhoca = Girafa(\"Minhoca\", 2, \"Silas\", 171)\n",
    "minhoca.fala()\n",
    "print(f'Altura da {minhoca.nome}: {minhoca.altura} cm')\n",
    "\n"
   ]
  },
  {
   "cell_type": "code",
   "execution_count": 67,
   "metadata": {},
   "outputs": [
    {
     "name": "stdout",
     "output_type": "stream",
     "text": [
      "(2, -2)\n",
      "(0, 2)\n",
      "(0, -2)\n"
     ]
    }
   ],
   "source": [
    "## Exercício 2 - Vetor com subtração\n",
    "\n",
    "\"\"\"Modifique a classe `Vetor`, na célula abaixo, para disponibilizar a operação de subtração com vetor e escalar. \n",
    "A subtração pela esquerda é `__sub__`, e pela direita `__rsub__`. **Mas cuidado:** a subtração não é uma operação comutativa!\"\"\"\n",
    "\n",
    "class Vetor:\n",
    "    def __init__(self, x, y):\n",
    "        \"Cria um vetor no plano.\"\n",
    "        self.x = x\n",
    "        self.y = y\n",
    "\n",
    "    def __str__(self):\n",
    "        \"Retorna uma string quando necessário.\"\n",
    "        return f'({self.x}, {self.y})'\n",
    "\n",
    "    def __add__(self, v):\n",
    "        if isinstance(v, (int, float)):\n",
    "            # Soma de vetor com escalar\n",
    "            x = self.x + v\n",
    "            y = self.y + v\n",
    "        else:\n",
    "            # Soma de vetor com vetor\n",
    "            x = self.x + v.x\n",
    "            y = self.y + v.y\n",
    "        return Vetor(x, y)\n",
    "\n",
    "    def __radd__(self, v):\n",
    "        # Faz a soma v + self\n",
    "        return self.__add__(v)\n",
    "\n",
    "    def __sub__(self, v):\n",
    "        if isinstance(v, (int, float)):\n",
    "            # Subtração de vetor por escalar\n",
    "            x = self.x - v\n",
    "            y = self.y - v\n",
    "        else:\n",
    "            # Subtração de vetor por vetor\n",
    "            x = self.x - v.x\n",
    "            y = self.y - v.y\n",
    "        return Vetor(x, y)\n",
    "\n",
    "    def __rsub__(self, v):\n",
    "        # Faz a subtração v - self\n",
    "        if isinstance(v, (int, float)):\n",
    "            x = v - self.x\n",
    "            y = v - self.y\n",
    "        else:\n",
    "            x = v.x - self.x\n",
    "            y = v.y - self.y\n",
    "        return Vetor(x, y)\n",
    "\n",
    "u = Vetor(5, 3)\n",
    "v = Vetor(3, 5)\n",
    "print(u - v)\n",
    "print(5 - u)\n",
    "print(u - 5)\n",
    "\n",
    "# Não existe a possibilidade da soma de dois vetores ser um escalar.\n"
   ]
  },
  {
   "cell_type": "markdown",
   "metadata": {},
   "source": [
    "## Exercício 3 - Uma conta para \"clientes especiais\"\n",
    "\n",
    "Crie uma clase `ContaEspecial`, filha da classe `Conta`, definida da Semana 2. Esta classe terá um atributo `limite` com valor padrão 200. Depois modifique o método `saque` para que o cliente possa sacar dinheiro até o saldo ficar com o valor negativo de `limite`. Se o limite não for suficiente, a função `saque` imprime *Limite indisponível!* Os bancos chamam este limite de *cheque especial*. Claro que os juros para saldo negativo são bem especiais também!"
   ]
  },
  {
   "cell_type": "code",
   "execution_count": 75,
   "metadata": {},
   "outputs": [
    {
     "name": "stdout",
     "output_type": "stream",
     "text": [
      "Saldo insuficiente.\n",
      "Conta de Thiago: Saldo R$600\n",
      "Limite indisponível.\n",
      "Conta de Junior: Saldo R$280\n"
     ]
    }
   ],
   "source": [
    "class Conta:\n",
    "    #Essa classe é a mesma da Aula 2. Não há alterações aqui.\n",
    "    def __init__(self, cliente, saldo=0):\n",
    "        self.cliente = cliente\n",
    "        self.saldo = saldo\n",
    "        self.historico = []\n",
    "\n",
    "    def deposito(self, valor):\n",
    "        valor_anterior = self.saldo\n",
    "        self.saldo += valor\n",
    "        self.historico.append(f\"Depósito de {valor}. O valor anterior era de {valor_anterior}\")\n",
    "\n",
    "    def saque(self, valor):\n",
    "        valor_anterior = self.saldo\n",
    "        if valor <= self.saldo:\n",
    "            self.saldo -= valor\n",
    "            self.historico.append(f\"Saque de {valor}. O valor anterior era de: {valor_anterior}\")\n",
    "        else:\n",
    "            print(\"Saldo insuficiente.\")\n",
    "\n",
    "    def resumo(self):\n",
    "        print(f\"Conta de {self.cliente}: Saldo R${self.saldo}\")\n",
    "\n",
    "class ContaEspecial(Conta):\n",
    "    #Aqui chamamos o método construtor e usamos o super() para instanciar a função mãe entre parenteses(Conta)\n",
    "    def __init__(self, cliente, saldo=0, limite=200):\n",
    "        super().__init__(cliente, saldo)\n",
    "        self.limite = limite\n",
    "\n",
    "    def saque(self, valor):\n",
    "    # Aqui há uma condicional para caso o valor do saque seja superior ao do limite especial + saldo atual retorne a impossibilidade de sacar o dinheiro.\n",
    "        valor_anterior = self.saldo\n",
    "        if valor <= (self.saldo + self.limite):\n",
    "            self.saldo -= valor\n",
    "            self.historico.append(f\"Saque de {valor}. O valor anterior era de: {valor_anterior}\")\n",
    "        else:\n",
    "            print(\"Limite indisponível.\")\n",
    "\n",
    "cliente_normal1 = \"Thiago\"\n",
    "conta_normal1 = Conta(cliente_normal1, 900)\n",
    "conta_normal1.saque(300)\n",
    "conta_normal1.saque(1200)\n",
    "conta_normal1.resumo()\n",
    "\n",
    "\n",
    "cliente_especial1 = \"Junior\"\n",
    "conta_especial1 = ContaEspecial(cliente_especial1, 980)\n",
    "conta_especial1.saque(700)\n",
    "conta_especial1.saque(1200)\n",
    "conta_especial1.resumo()\n"
   ]
  },
  {
   "cell_type": "code",
   "execution_count": null,
   "metadata": {},
   "outputs": [],
   "source": []
  }
 ],
 "metadata": {
  "kernelspec": {
   "display_name": "Python 3",
   "language": "python",
   "name": "python3"
  },
  "language_info": {
   "codemirror_mode": {
    "name": "ipython",
    "version": 3
   },
   "file_extension": ".py",
   "mimetype": "text/x-python",
   "name": "python",
   "nbconvert_exporter": "python",
   "pygments_lexer": "ipython3",
   "version": "3.11.7"
  }
 },
 "nbformat": 4,
 "nbformat_minor": 2
}
