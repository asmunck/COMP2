{
 "cells": [
  {
   "cell_type": "markdown",
   "metadata": {
    "id": "ymmPNlTg21wY"
   },
   "source": [
    "# Computação 2 &ndash; Aula 11 &ndash; 2023.3\n",
    "\n",
    "Durante esta aula daremos continuidade aos nossos estudos sobre **Interfaces Gráficas com Tk em Python**. Vamos praticar os nossos conhecimentos e aprender um pouco mais sobre o widget **Canvas**. Aprender sobre o uso do **Canvas** em bibliotecas gráficas, como o Tkinter em Python, pode ser importante por várias razões, dentre elas:\n",
    "\n",
    "1. Visualização de Dados\n",
    "2. Interfaces Gráficas\n",
    "3. Simulações e Modelagem\n",
    "4. Desenho Técnico\n",
    "5. Controle de Dispositivos\n",
    "6. Prototipagem Rápida\n",
    "7. Personalização\n",
    "8. Interação com o Usuário\n",
    "9. Aplicações Específicas da Engenharia\n",
    "\n",
    "Aprender a usar o **Canvas** em bibliotecas gráficas é uma habilidade valiosa, pois ele permite criar representações visuais personalizadas, interfaces de usuário e ferramentas de análise que são essenciais em uma variedade de campos científicos e tecnológicos. O conhecimento do Canvas pode melhorar a eficiência, a comunicação e a compreensão de sistemas complexos e dados técnicos.\n",
    "\n",
    "Bons estudos!<br>\n",
    "*Prof. Andréa Lins*<br>\n",
    "\n",
    "---\n"
   ]
  },
  {
   "cell_type": "markdown",
   "metadata": {
    "id": "9lQAy7LL6aww"
   },
   "source": [
    "# Interfaces Gráficas com **Tk** - Continuação"
   ]
  },
  {
   "cell_type": "markdown",
   "metadata": {
    "id": "tS-DEc487cHE"
   },
   "source": [
    "O pacote **tkinter** é a interface padrão do Python para o kit de ferramentas para interfaces gráficas **Tk**. O **Tk** é usado para criar uma **GUI (Graphical User Inferface)** (como uma nova janela) para sua interface."
   ]
  },
  {
   "cell_type": "markdown",
   "metadata": {
    "id": "dN_zvpLl7VC6"
   },
   "source": [
    "**Obs.:**\n",
    "\n",
    "⛔ Você **não** pode criar uma interface gráfica usando o **Tkinter** no **Google Colab**, pois ele **não** oferece suporte nativo à interface gráfica. O **Colab** é executado no servidor web na nuvem, com isso, **não** é possível abrir uma janela na sua máquina.\n",
    "\n",
    "⛔ Você pode usar o **Tkinter** no **Jupyter Notebook** para criar interfaces gráficas interativas. No entanto, as janelas de interface gráfica **não** serão exibidas diretamente no notebook, mas sim em uma janela *pop-up* fora do ambiente do notebook."
   ]
  },
  {
   "cell_type": "markdown",
   "metadata": {
    "id": "AsGnEZteX4p7"
   },
   "source": [
    "## Usando o **tkinter**"
   ]
  },
  {
   "cell_type": "markdown",
   "metadata": {
    "id": "QK3Qt8teX4p7"
   },
   "source": [
    "Para utilizar o módulo **Tkinter**, **não** é necessário instalá-lo, pois uma versão desse módulo já vem instalada nos sistemas **Linux** e **MacOS**, mas geralmente não é a versão mais recente. Caso você opte por utilizar uma versão mais recente, verifique como instalar a **Tkinter** em seu computador no site [TkDocs](https://tkdocs.com/tutorial/install.html). Em sistemas **Windows**, você deve verificar se o Python está instalado, caso não esteja, é necessário instalá-lo e garantir que a opção **\"Instalar o Tcl/Tk e o IDLE\"** esteja marcada durante o processo de instalação. Certifique-se de baixar a versão mais recente do Python a partir do [site oficial](https://www.python.org/).\n"
   ]
  },
  {
   "cell_type": "markdown",
   "metadata": {
    "id": "Az_Z5B2HX4p7"
   },
   "source": [
    "### Importação"
   ]
  },
  {
   "cell_type": "markdown",
   "metadata": {
    "id": "7v52Q64d7V3t"
   },
   "source": [
    "Você poderá importar o **Tkinter** para utilizá-lo em seus *scripts* Python através do comando `import`:\n"
   ]
  },
  {
   "cell_type": "code",
   "execution_count": null,
   "metadata": {
    "id": "9400-tAUsqT1"
   },
   "outputs": [],
   "source": [
    "import tkinter as tk"
   ]
  },
  {
   "cell_type": "markdown",
   "metadata": {
    "id": "gjZu8ccGuHtu"
   },
   "source": [
    "Para verificar a versão que está sendo usada, utilize o comando:"
   ]
  },
  {
   "cell_type": "code",
   "execution_count": null,
   "metadata": {
    "id": "b1gWhLqJ29_m"
   },
   "outputs": [],
   "source": [
    "tk.Tcl().eval('info patchlevel')"
   ]
  },
  {
   "cell_type": "markdown",
   "metadata": {
    "id": "fTnzrUkNX4p_"
   },
   "source": [
    "### ***Widgets***"
   ]
  },
  {
   "cell_type": "markdown",
   "metadata": {
    "id": "dgQ2RowfX4p_"
   },
   "source": [
    "No **Tkinter**, os ***widgets*** são *elementos de interface gráfica* que você pode adicionar a uma janela ou *frame* para criar uma aplicação com uma GUI. Esses ***widgets*** são componentes que permitem que os usuários interajam com o programa, como botões, rótulos, campos de entrada, caixas de seleção, barras de rolagem, entre outros.\n",
    "\n",
    "Para criar um **widget**, tem-se que informar o **widget-pai** (parâmetro master) onde geometricamente deverá ser encaixado e as opções de configuração para o **widget**. <br>\n",
    "Ex.: <code> w = Button(master=pai,text=”Cancelar”,command=cancelar) </code>\n",
    "<br>\n",
    "\n",
    "**Tk** já define por default uma janela principal <code>master=None</code> (default) indica que o **widget** será filho da janela principal. Outras janelas podem ser criadas instanciando-se objetos da classe <code>Toplevel</code>."
   ]
  },
  {
   "cell_type": "markdown",
   "metadata": {
    "id": "CD5QSP2gX4qA"
   },
   "source": [
    "Alguns exemplos de widgets comuns no **Tkinter** incluem:\n",
    "\n",
    "1. **Label** (Rótulo): É usado para exibir texto ou rótulos em uma janela. Pode ser usado para fornecer informações ou instruções ao usuário.\n",
    "2. **Button** (Botão): Permite que os usuários cliquem nele para acionar ações ou eventos em seu aplicativo.\n",
    "3. **Entry** (Campo de Entrada): É uma área onde os usuários podem inserir texto, como nomes de usuário, senhas ou dados de entrada.\n",
    "4. **Checkbutton** (Caixa de Seleção): Representa uma opção ou escolha binária (marcada/não marcada). Os usuários podem selecionar ou desmarcar uma caixa de seleção.\n",
    "5. **Radiobutton** (Botão de Opção): Permite que os usuários escolham uma opção entre várias opções mutuamente exclusivas. Os botões de opção geralmente são agrupados em conjuntos e apenas um deles pode ser selecionado de cada vez.\n",
    "6. **Listbox** (Caixa de Listagem): Exibe uma lista de itens dos quais os usuários podem selecionar um ou mais.\n",
    "7. **Scrollbar** (Barra de Rolagem): É usado para rolar conteúdo em ***widgets*** como Listbox, Canvas e Text.\n",
    "8. **Frame**: Um contêiner retangular que pode conter outros ***widgets***. Os frames são usados para organizar e agrupar ***widgets***.\n",
    "9. **Canvas** (Tela): É usado para desenhar gráficos, figuras e gráficos personalizados.\n",
    "10. **Menu**: Um painel de menu. Implementa menus de janela, *pulldowns* e *popups*.\n",
    "11. **Message**: Similar ao ***widget*** Label, mas tem mais facilidade para mostrar texto quebrado em linhas.\n",
    "12. **Radiobutton** Representa um possível valor de uma variável que tem um de muitos valores. Clicando o botão, a variável assume aquele valor.\n",
    "13. **Scale** Permite especificar um valor numérico através de um ponteiro em uma escala linear.\n",
    "14. **Scrollbar** Barra de rolamento para ***widgets*** que têm superfície útil variável (Text, Canvas, Entry, Listbox).\n",
    "15. **Text** Exibe e permite editar texto formatado. Também suporta imagens e janelas embutidas.\n",
    "16. **Toplevel** Uma janela separada.\n"
   ]
  },
  {
   "cell_type": "markdown",
   "metadata": {
    "id": "8o70w8aEX4qZ"
   },
   "source": [
    "#### Exemplo 1:"
   ]
  },
  {
   "cell_type": "markdown",
   "metadata": {
    "id": "VqwWGBATX4qa"
   },
   "source": [
    "Exemplo de interface simples com instruções em um Label e um Button."
   ]
  },
  {
   "cell_type": "code",
   "execution_count": null,
   "metadata": {
    "id": "xIYhMYQWX4qb"
   },
   "outputs": [],
   "source": [
    "import tkinter as tk\n",
    "\n",
    "# criando a janela principal\n",
    "root = tk.Tk()\n",
    "root.title(\"Minha interface\")\n",
    "root.geometry(\"640x480+200+200\")\n",
    "\n",
    "# criando elementos de interface (widgets): rótulo e botão\n",
    "label = tk.Label(root, text=\"Para sair, pressione o botão Bye.\")\n",
    "button = tk.Button(root, text=\"Bye\", command=root.destroy)\n",
    "\n",
    "# organizando os elementos na janela:\n",
    "label.pack()\n",
    "button.pack()\n",
    "\n",
    "# executando a janela principal:\n",
    "root.mainloop()"
   ]
  },
  {
   "cell_type": "markdown",
   "metadata": {
    "id": "hdRJr5p0vqkJ"
   },
   "source": [
    "### Personalizando ***widgets***"
   ]
  },
  {
   "cell_type": "markdown",
   "metadata": {
    "id": "-Q2W7G3HX4qc"
   },
   "source": [
    "O **Tkinter** fornece várias opções que você pode usar para personalizar a aparência e o comportamento de widgets (elementos de interface gráfica) em suas aplicações. Dentre as opções comuns para personalizar widgets em Tkinter estão:\n",
    "\n",
    "* 1. Opções de Configuração Comuns:<br>\n",
    "`text ou label`: Define o texto exibido em um widget, como um botão ou um rótulo.<br>\n",
    "`bg ou background`: Define a cor de fundo de um widget.<br>\n",
    "`fg ou foreground`: Define a cor do texto em um widget.<br>\n",
    "`font`: Define a fonte do texto em um widget.<br>\n",
    "`width e height`: Define a largura e altura de um widget, como um botão ou uma janela.<br>\n",
    "<br>\n",
    "* 2. Opções de Comportamento:<br>\n",
    "`command`: Especifica uma função a ser executada quando um widget, como um botão, é acionado.<br>\n",
    "`state`: Define o estado de um widget, que pode ser \"normal\", \"desabilitado\" ou \"somente leitura\".<br>\n",
    "`variable`: Associa uma variável (como uma StringVar) a widgets como caixas de seleção e botões de opção.<br>\n",
    "<br>\n",
    "* 3. Opções de Posicionamento e Layout:<br>\n",
    "`padx e pady`: Define o preenchimento horizontal e vertical ao redor do conteúdo de um widget.<br>\n",
    "`sticky`: Controla como um widget se estende para preencher seu espaço quando disponível (por exemplo, \"w\" para oeste, \"e\" para leste, \"n\" para norte, \"s\" para sul).<br>\n",
    "<br>\n",
    "* 4. Opções Específicas para Tipos de Widget:<br>\n",
    "Diferentes tipos de widgets têm opções específicas. Por exemplo, um botão pode ter uma opção `relief` ('flat', 'raised', 'ridge', 'sunken', 'groove') para definir o estilo da borda, enquanto um rótulo pode ter uma opção `anchor` (pode ser uma combinação de valores como \"n\" (norte), \"s\" (sul), \"e\" (leste), \"w\" (oeste), \"nw\" (nordeste), \"se\" (sudoeste), etc.) para controlar o alinhamento do texto.<br>\n",
    "<br>\n",
    "* 5. Opções de Gerenciamento de Layout:<br>\n",
    "As opções `row` e `column` são usadas com o método `grid()` para especificar a posição de um widget em uma grade.<br>\n",
    "No método `pack()`, as opções `side` (lado) e `fill` (preenchimento) são usadas para controlar o posicionamento e o preenchimento do widget em seu contêiner.<br>\n",
    "<br>\n",
    "* 6. Opções de Eventos:<br>\n",
    "` bind`: Permite associar eventos a um widget, de modo que você possa executar funções personalizadas quando um evento específico ocorre, como um clique do mouse.<br>\n",
    "<br>\n",
    "* 7. Opções de Imagem:<br>\n",
    "`image`: Permite adicionar uma imagem a widgets, como botões.<br>\n",
    "<br>\n",
    "* 8. Opções de Desenho Personalizado:<br>\n",
    "Alguns widgets, como o Canvas, têm opções para definir propriedades de desenho, como cores de traço e preenchimento.<br>\n",
    "<br>\n",
    "* 9. Outras Opções Específicas do Widget:<br>\n",
    "Muitos widgets têm opções adicionais específicas. É importante consultar a documentação do Tkinter no site [TkDocs](https://tkdocs.com/tutorial/install.html) ou a documentação específica do widget que você está usando para obter informações detalhadas sobre as opções disponíveis.\n"
   ]
  },
  {
   "cell_type": "markdown",
   "metadata": {
    "id": "rqKbPn9GX4qe"
   },
   "source": [
    "#### Exemplo 2:\n",
    "\n",
    "Vamos criar uma interface na qual o usuário pode inserir dois números nos campos de entrada (`Entry`). Quando o botão \"Calcular Soma\" é clicado, a função `calcular_soma()` é chamada. Ela lê os números inseridos, realiza a soma e exibe o resultado no rótulo (`Label`) \"Resultado\"."
   ]
  },
  {
   "cell_type": "code",
   "execution_count": null,
   "metadata": {
    "id": "O284OeFTX4qe"
   },
   "outputs": [],
   "source": [
    "import tkinter as tk\n",
    "\n",
    "# Função para calcular a soma dos números inseridos\n",
    "def calcular_soma():\n",
    "    try:\n",
    "        num1 = float(entrada_num1.get())\n",
    "        num2 = float(entrada_num2.get())\n",
    "        soma = num1 + num2\n",
    "        resultado.config(text=f\"Resultado: {soma}\")\n",
    "    except ValueError:\n",
    "        resultado.config(text=\"Por favor, insira números válidos.\")\n",
    "\n",
    "# Criação da janela principal\n",
    "janela = tk.Tk()\n",
    "janela.title(\"Calculadora\")\n",
    "\n",
    "# Rótulo de instrução\n",
    "instrucao = tk.Label(janela, text=\"Digite dois números:\", font=(\"Arial\", 12))\n",
    "instrucao.pack(padx=10, pady=10)\n",
    "\n",
    "# Entradas para os números\n",
    "entrada_num1 = tk.Entry(janela)\n",
    "entrada_num1.pack()\n",
    "\n",
    "entrada_num2 = tk.Entry(janela)\n",
    "entrada_num2.pack()\n",
    "\n",
    "# Botão para calcular a soma\n",
    "botao_calcular = tk.Button(janela, text=\"Calcular Soma\", command=calcular_soma, font=(\"Arial\", 12))\n",
    "botao_calcular.pack(pady=10)\n",
    "\n",
    "# Rótulo para exibir o resultado\n",
    "resultado = tk.Label(janela, text=\"\", font=\"Arial 12 bold\", fg=\"darkgreen\")\n",
    "resultado.pack()\n",
    "\n",
    "janela.mainloop()"
   ]
  },
  {
   "cell_type": "markdown",
   "metadata": {
    "id": "hyEr9k2AX4qf"
   },
   "source": [
    "### Exercício 1 [0,9pt]"
   ]
  },
  {
   "cell_type": "markdown",
   "metadata": {
    "id": "dYcaUor-X4qg"
   },
   "source": [
    "Expanda o exemplo 1, com botões para calcular e exibir o respectivo resultado das seguintes operações:\n",
    "\n",
    "* [0,3pt] a) Subtração\n",
    "* [0,3pt] b) Multiplicação\n",
    "* [0,3pt] c) Divisão (lembre-se que não pode haver divisão por zero, então você deve tratar esse tipo de exceção)\n",
    "\n",
    "**Obs.:** Cada botão deve ter uma cor diferente de background.\n"
   ]
  },
  {
   "cell_type": "code",
   "execution_count": 22,
   "metadata": {
    "id": "MAEad2RDX4qh"
   },
   "outputs": [],
   "source": [
    "import tkinter as tk\n",
    "\n",
    "# Função para mover o objeto no Canvas\n",
    "def mover_direita():\n",
    "    canvas.move(retangulo, 5, 0)\n",
    "\n",
    "def mover_esquerda():\n",
    "    canvas.move(retangulo, -5, 0)\n",
    "\n",
    "def mover_cima():\n",
    "    canvas.move(retangulo, 0, -5)\n",
    "\n",
    "def mover_baixo():\n",
    "    canvas.move(retangulo, 0, 5)\n",
    "\n",
    "def mover_diagonal_principal_cima():\n",
    "    canvas.move(retangulo, -5, -5)\n",
    "\n",
    "def mover_diagonal_principal_baixo():\n",
    "    canvas.move(retangulo, 5, 5)\n",
    "\n",
    "def mover_diagonal_secundaria_cima():\n",
    "    canvas.move(retangulo, 5, -5)\n",
    "\n",
    "def mover_diagonal_secundaria_baixo():\n",
    "    canvas.move(retangulo, -5, 5)\n",
    "\n",
    "# Criação da janela principal\n",
    "janela = tk.Tk()\n",
    "janela.title(\"Mover o Objeto no Canvas\")\n",
    "\n",
    "# Cria um Canvas\n",
    "canvas = tk.Canvas(janela, width=400, height=400)\n",
    "canvas.pack() # Alterado para pack para permitir que o Frame seja colocado na parte inferior\n",
    "\n",
    "# Cria um retângulo no Canvas\n",
    "retangulo = canvas.create_rectangle(50, 50, 100, 100, fill=\"blue\")\n",
    "\n",
    "# Cria um Frame para conter os botões\n",
    "frame_botoes = tk.Frame(janela)\n",
    "frame_botoes.pack(side=tk.BOTTOM) # Coloca o Frame na parte inferior da janela\n",
    "\n",
    "# Botões para mover o objeto\n",
    "botao_esquerda = tk.Button(frame_botoes, text='Esquerda', command=mover_esquerda, width=20)\n",
    "botao_esquerda.grid(row=1, column=0) # Alterada posição na grade\n",
    "\n",
    "botao_direita = tk.Button(frame_botoes, text='Direita', command=mover_direita, width=20)\n",
    "botao_direita.grid(row=1, column=2) # Alterada posição na grade\n",
    "\n",
    "botao_cima = tk.Button(frame_botoes, text='Cima', command=mover_cima, width=20)\n",
    "botao_cima.grid(row=0, column=1) # Alterada posição na grade\n",
    "\n",
    "botao_baixo = tk.Button(frame_botoes, text='Baixo', command=mover_baixo, width=20)\n",
    "botao_baixo.grid(row=2, column=1) # Alterada posição na grade\n",
    "\n",
    "# Adicionados botões de movimento diagonal e alteradas suas posições de acordo\n",
    "botao_diagonal_principal_cima = tk.Button(frame_botoes, text='Diagonal Principal Cima', command=mover_diagonal_principal_cima, width=20)\n",
    "botao_diagonal_principal_cima.grid(row=0, column=0) # Alterada posição na grade\n",
    "\n",
    "botao_diagonal_secundaria_cima = tk.Button(frame_botoes, text='Diagonal Secundária Cima', command=mover_diagonal_secundaria_cima, width=20)\n",
    "botao_diagonal_secundaria_cima.grid(row=0, column=2) # Alterada posição na grade\n",
    "\n",
    "botao_diagonal_secundaria_baixo = tk.Button(frame_botoes, text='Diagonal Secundária Baixo', command=mover_diagonal_secundaria_baixo, width=20)\n",
    "botao_diagonal_secundaria_baixo.grid(row=2, column=0) # Alterada posição na grade\n",
    "\n",
    "botao_diagonal_principal_baixo = tk.Button(frame_botoes, text='Diagonal Principal Baixo', command=mover_diagonal_principal_baixo, width=20)\n",
    "botao_diagonal_principal_baixo.grid(row=2, column=2) # Alterada posição na grade\n",
    "\n",
    "janela.mainloop()\n"
   ]
  },
  {
   "cell_type": "markdown",
   "metadata": {
    "id": "kZrgqrg3X4qh"
   },
   "source": [
    "#### Canvas"
   ]
  },
  {
   "cell_type": "markdown",
   "metadata": {
    "id": "lIclmvhsX4qi"
   },
   "source": [
    "O widget **Canvas** no **Tkinter** é uma poderosa ferramenta para criar *gráficos, desenhos e elementos visuais interativos* em interfaces gráficas em Python. Ele fornece um espaço em branco onde você pode desenhar linhas, formas, texto e imagens, tornando-o útil para criar gráficos personalizados, jogos simples e aplicativos que exigem recursos de desenho personalizados. Nesta revisão abrangente, vamos abordar os principais aspectos do uso do widget Canvas em Tkinter.\n",
    "\n"
   ]
  },
  {
   "cell_type": "markdown",
   "metadata": {
    "id": "Cqbxt3CLX4qi"
   },
   "source": [
    "#### Criação de um Canvas:\n",
    "\n",
    "Para criar um **Canvas** em Tkinter, você pode usar a classe `tk.Canvas`."
   ]
  },
  {
   "cell_type": "markdown",
   "metadata": {
    "id": "j-SyQfe4X4qj"
   },
   "source": [
    "#### Exemplo 3:"
   ]
  },
  {
   "cell_type": "markdown",
   "metadata": {
    "id": "Y4OjucUYX4qj"
   },
   "source": [
    "Exemplo simples de como criar um Canvas de 400 pixels de largura e 300 pixels de altura em uma janela usando o **tkinter** em Python:"
   ]
  },
  {
   "cell_type": "code",
   "execution_count": null,
   "metadata": {
    "id": "aDS24abCX4qk"
   },
   "outputs": [],
   "source": [
    "import tkinter as tk\n",
    "\n",
    "janela = tk.Tk()\n",
    "canvas = tk.Canvas(janela, width=400, height=300)\n",
    "canvas.pack()\n",
    "\n",
    "janela.mainloop()\n"
   ]
  },
  {
   "cell_type": "markdown",
   "metadata": {
    "id": "tiUaEgkZX4ql"
   },
   "source": [
    "Até então, o que fizemos foi criar uma simples janela Canvas, mas como exibir gráficos e imagens nessa janela? Veremos algumas opções abaixo:"
   ]
  },
  {
   "cell_type": "markdown",
   "metadata": {
    "id": "xyTh92R7X4ql"
   },
   "source": [
    "#### Desenho Básico:\n",
    "\n",
    "O Canvas oferece vários métodos para desenhar elementos. Alguns dos métodos comuns incluem:\n",
    "* `create_line`,\n",
    "* `create_rectangle`,\n",
    "* `create_oval`,\n",
    "* `create_text`, e\n",
    "* `create_image`.\n",
    "\n",
    "A seguir, veremos como usar alguns desses métodos:"
   ]
  },
  {
   "cell_type": "markdown",
   "metadata": {
    "id": "wSxImJ7JX4qm"
   },
   "source": [
    "#### Exemplo 4:"
   ]
  },
  {
   "cell_type": "code",
   "execution_count": null,
   "metadata": {
    "id": "X-SP-U6YX4qm"
   },
   "outputs": [],
   "source": [
    "import tkinter as tk\n",
    "\n",
    "janela = tk.Tk()\n",
    "canvas = tk.Canvas(janela, width=400, height=300)\n",
    "canvas.pack(expand=True, fill='both')\n",
    "\n",
    "# Desenhar uma linha\n",
    "canvas.create_line(50, 50, 200, 50)\n",
    "\n",
    "# Desenhar um retângulo\n",
    "canvas.create_rectangle(100, 100, 250, 200, fill=\"blue\")\n",
    "\n",
    "# Desenhar um círculo\n",
    "canvas.create_oval(300, 100, 450, 250, fill=\"red\")\n",
    "\n",
    "# Escrever texto\n",
    "canvas.create_text(100, 250, text=\"Hello, Canvas!\", fill=\"black\", font=(\"Arial\", 12))\n",
    "\n",
    "janela.mainloop()\n"
   ]
  },
  {
   "cell_type": "markdown",
   "metadata": {
    "id": "ZYa7FnQEX4qn"
   },
   "source": [
    "#### Eventos e Interação:\n",
    "\n",
    "Você pode adicionar interatividade ao Canvas, respondendo a eventos do **mouse** e do **teclado**. Para fazer isso, você pode usar o método `bind()` para associar funções a eventos específicos."
   ]
  },
  {
   "cell_type": "markdown",
   "metadata": {
    "id": "XpSaVMDYX4qn"
   },
   "source": [
    "#### Exemplo 5:\n",
    "\n",
    "Interface para criar um círculo (create_oval) a partir do clique do botão esquerdo (Button-1) do mouse em um Canvas:"
   ]
  },
  {
   "cell_type": "code",
   "execution_count": null,
   "metadata": {
    "id": "UXF3mFE4X4qn"
   },
   "outputs": [],
   "source": [
    "import tkinter as tk\n",
    "\n",
    "def clique_do_mouse(event):\n",
    "    x, y = event.x, event.y\n",
    "    canvas.create_oval(x - 5, y - 5, x + 5, y + 5, fill=\"green\")\n",
    "\n",
    "janela = tk.Tk()\n",
    "canvas = tk.Canvas(janela, width=400, height=300)\n",
    "canvas.pack(expand=True, fill='both')\n",
    "\n",
    "canvas.bind(\"<Button-1>\", clique_do_mouse)\n",
    "\n",
    "janela.mainloop()\n"
   ]
  },
  {
   "cell_type": "markdown",
   "metadata": {
    "id": "Tl3YPFj6X4qo"
   },
   "source": [
    "#### Atualização Dinâmica:\n",
    "\n",
    "Você pode atualizar o conteúdo do Canvas dinamicamente chamando métodos como:\n",
    "* `move()`,\n",
    "* `delete()` e\n",
    "* `itemconfig()`\n",
    "para modificar objetos já desenhados. Isso é útil para criar animações simples.\n"
   ]
  },
  {
   "cell_type": "markdown",
   "metadata": {
    "id": "mOXmCdWFX4qo"
   },
   "source": [
    "#### Exemplo 6:\n",
    "\n",
    "Nesse exemplo, vamos criar um objeto que se move horizontalmente no Canvas quando um botão é clicado."
   ]
  },
  {
   "cell_type": "code",
   "execution_count": 6,
   "metadata": {
    "id": "tZ_KOoDWX4qx"
   },
   "outputs": [],
   "source": [
    "import tkinter as tk\n",
    "\n",
    "# Função para mover o objeto no Canvas\n",
    "def mover_direita():\n",
    "    canvas.move(retangulo, 5, 0)  # Move o retângulo 5 pixels para a direita\n",
    "\n",
    "# Criação da janela principal\n",
    "janela = tk.Tk()\n",
    "janela.title(\"Mover o Objeto no Canvas\")\n",
    "\n",
    "# Cria um Canvas\n",
    "canvas = tk.Canvas(janela, width=400, height=400)\n",
    "canvas.pack()\n",
    "\n",
    "# Cria um retângulo no Canvas\n",
    "retangulo = canvas.create_rectangle(50, 50, 100, 100, fill=\"blue\")\n",
    "\n",
    "# Botão para mover o objeto\n",
    "botao = tk.Button(janela, text=\"Direita\", command=mover_direita)\n",
    "botao.pack(side = \"right\",expand=True, fill='both')\n",
    "\n",
    "janela.mainloop()"
   ]
  },
  {
   "cell_type": "markdown",
   "metadata": {
    "id": "ATjHyr0OX4qy"
   },
   "source": [
    "### Exercício 2 [1,4pt]"
   ]
  },
  {
   "cell_type": "markdown",
   "metadata": {
    "id": "N5lAU9vmX4qy"
   },
   "source": [
    "Expanda o Exemplo 6, crie os botões e respectivas funções para mover o objeto para:\n",
    "* a) a esquerda;\n",
    "* b) cima;\n",
    "* d) baixo;\n",
    "* e) cima na diagonal principal\n",
    "* f) baixo na diagonal principal\n",
    "* g) cima na diagonal secundária\n",
    "* h) baixo na diagonal secundária\n",
    "\n",
    "A sua janela deve ficar parecida com a da imagem abaixo:\n",
    "\n"
   ]
  },
  {
   "cell_type": "markdown",
   "metadata": {
    "id": "od9nRIBmY0hW"
   },
   "source": [
    "<center>\n",
    "\n",
    "![exercicio2-sem13.png](data:image/png;base64,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)\n",
    "\n",
    "<center>\n",
    "<br>Figura 1. Interface para mover um objeto usando o Canvas.</center>\n"
   ]
  },
  {
   "cell_type": "code",
   "execution_count": 23,
   "metadata": {
    "id": "NgYQxvZgX4qy"
   },
   "outputs": [],
   "source": [
    "import tkinter as tk\n",
    "\n",
    "# Função para mover o objeto no Canvas\n",
    "def mover_direita():\n",
    "    canvas.move(retangulo, 5, 0)  # Move o retângulo 5 pixels para a direita\n",
    "\n",
    "def mover_esquerda():\n",
    "    canvas.move(retangulo, -5, 0) # Move o retângulo 5 pixels para a esquerda\n",
    "    \n",
    "def mover_baixo():\n",
    "    canvas.move(retangulo, 0, 5) # Move o retângulo 5 pixels para a baixo\n",
    "    \n",
    "def mover_cima():\n",
    "    canvas.move(retangulo, 0, -5)\n",
    "\n",
    "def mover_diagonal_p_c():\n",
    "    canvas.move(retangulo, 5, -5)\n",
    "\n",
    "def mover_diagonal_p_b():\n",
    "    canvas.move(retangulo, -5, 5)\n",
    "\n",
    "def mover_diagonal_s_c():\n",
    "    canvas.move(retangulo, -5, -5)\n",
    "\n",
    "def mover_diagonal_s_b():\n",
    "    canvas.move(retangulo, 5, 5)\n",
    "\n",
    "# Criação da janela principal\n",
    "janela = tk.Tk()\n",
    "janela.title(\"Mover o Objeto no Canvas\")\n",
    "janela.geometry(\"800x750\")\n",
    "\n",
    "# Cria um Canvas\n",
    "canvas = tk.Canvas(janela, width=400, height=400)\n",
    "canvas.pack()\n",
    "\n",
    "# Cria um retângulo no Canvas\n",
    "retangulo = canvas.create_rectangle(50, 50, 100, 100, fill=\"blue\")\n",
    "\n",
    "# Botão para mover o objeto(direita)\n",
    "botao1 = tk.Button(janela, text=\"Direita\", command=mover_direita, width=30, font=\"Arial 10\")\n",
    "botao1.pack(side = \"right\", fill=\"both\")\n",
    "\n",
    "# Botão para mover o objeto(esquerda)\n",
    "botao2 = tk.Button(janela, text = \"Esquerda\", command = mover_esquerda, width=30, font=\"Arial 10\")\n",
    "botao2.pack(side = \"left\", fill = \"both\")\n",
    "\n",
    "# Botão para mover o objeto(baixo)\n",
    "botao3 = tk.Button(janela, text=\"baixo\", command = mover_baixo, width=15, font=\"Arial 10\")\n",
    "botao3.pack(side = \"bottom\", expand = True, fill = \"both\")\n",
    "\n",
    "# Botão para mover o objeto(cima)\n",
    "botao4 = tk.Button(janela, text = \"cima\", command = mover_cima, width=15, font=\"Arial 10\")\n",
    "botao4.pack(side =\"top\", expand = True, fill = \"both\")\n",
    "\n",
    "# Botão para mover o objeto(diagonal principal cima)\n",
    "botao5 = tk.Button(janela, text = \"diagonal principal cima\", command = mover_diagonal_p_c, width=15, font=\"Arial 10\")\n",
    "botao5.pack(expand = True, fill = \"both\")\n",
    "\n",
    "# Botão para mover o objeto(diagonal secundária cima)\n",
    "botao6 = tk.Button(janela, text = \"diagonal secundária cima\", command = mover_diagonal_s_c, width=15, font=\"Arial 10\")\n",
    "botao6.pack(expand = True, fill = \"both\")\n",
    "\n",
    "# Botão para mover o objeto(diagonal secundária baixo)\n",
    "botao7 = tk.Button(janela, text = \"diagonal secundária baixo\", command = mover_diagonal_s_b, width=15, font=\"Arial 10\")\n",
    "botao7.pack(expand = True, fill = \"both\")\n",
    "\n",
    "# Botão para mover o objeto(diagonal principal baixo)\n",
    "botao8 = tk.Button(janela, text = \"diagonal principal baixo\", command = mover_diagonal_p_b, width=15, font=\"Arial 10\")\n",
    "botao8.pack(expand = True, fill = \"both\")\n",
    "\n",
    "janela.mainloop()"
   ]
  },
  {
   "cell_type": "markdown",
   "metadata": {
    "id": "iIa6dKUTX4qz"
   },
   "source": [
    "#### Salvar e Carregar:\n",
    "O Canvas permite salvar o conteúdo desenhado em um arquivo de imagem, como PNG ou PPM, usando o método `postscript()` e depois convertendo-o para um formato de imagem. Isso é útil se você quiser salvar o que foi desenhado no Canvas.\n"
   ]
  },
  {
   "cell_type": "markdown",
   "metadata": {
    "id": "y2R3SCBcX4qz"
   },
   "source": [
    "#### Limitações:\n",
    "Embora o Canvas seja uma ferramenta flexível, ele tem algumas limitações. Não é adequado para gráficos complexos, como gráficos de alta qualidade, e não possui recursos de plotagem estatística avançados. Além disso, a performance pode ser um problema se você tentar desenhar muitos elementos em um Canvas."
   ]
  },
  {
   "cell_type": "markdown",
   "metadata": {
    "id": "s2aoRCwkX4q0"
   },
   "source": [
    "O widget **Canvas** do Tkinter é uma ferramenta versátil para desenho e gráficos simples em interfaces gráficas Python. É adequado para projetos que requerem recursos de desenho personalizados, interatividade e animação básica. Para gráficos mais complexos, você pode considerar bibliotecas gráficas mais avançadas, como Matplotlib."
   ]
  },
  {
   "cell_type": "markdown",
   "metadata": {
    "id": "5WCQa6moX4q0"
   },
   "source": [
    "### Exercício 3 [3,7pt]\n"
   ]
  },
  {
   "cell_type": "markdown",
   "metadata": {
    "id": "z72uNZT-X4q0"
   },
   "source": [
    "Vamos montar um esboço do jogo [Gartic](https://gartic.com.br/). Iremos montar um programa que possui uma tela em branco para\n",
    "desenhar com diferentes opções de desenho. O resultado devera estar próximo da Figura 2.\n",
    "\n",
    "1. Crie um `frame` à esquerda para guardar os botões com largura igual a 150 pixels e altura igual a 480 pixels e posicione o `frame` de modo que, caso a janela aumente, ele seja redimensionado no eixo *y*;\n",
    "2. Crie um `canvas` de tamanho 1500x1500 que seja rolável em ambos os eixos, com fundo branco e adicione as respectivas barras de rolagem. Para alterar o fundo de um canvas existe o parâmetro `background`;\n",
    "3. Crie uma `variável` do tipo `StringVar` para guardar a cor selecionada e uma `variável` do tipo `DoubleVar` para guardar a espessura de desenho digitada;\n",
    "4. Crie os `botões` de caneta, circulo, quadrado, borracha e mover um embaixo do outro e adicione as respectivas funcionalidades;\n",
    "5. Crie uma `variável` para guardar o botão ativo com valor inicial igual ao botão da caneta e duas `variáveis` para guardar as posições $x_0$ e $y_0$ com valores iniciais iguais a zero;\n",
    "6. Crie um campo do tipo `Entry` para manipular a variável de espessura\n",
    "7. Crie quatro `RadioButton` para cada uma das cores conforme visto em sala\n",
    "8. Crie um `botão` para limpar a tela\n",
    "9. A borracha deve ter o comportamento igual ao da caneta, porém com a cor branca. Além disso, a borracha deve possuir a `tag` ”borracha” para evitar que a linha branca que foi desenhada possa ser selecionada e movida.\n",
    "10. A janela deve possuir tamanho 640x480 e começar na posição 100, 100 da tela.\n"
   ]
  },
  {
   "cell_type": "markdown",
   "metadata": {
    "id": "4AgNTU-YZbUE"
   },
   "source": [
    "<center>\n",
    "\n",
    "![exercicio3-sem13.png](data:image/png;base64,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)\n",
    "\n",
    "\n",
    "<center>Figura 2. Interface para um esboço do jogo Gartic.</center>"
   ]
  },
  {
   "cell_type": "code",
   "execution_count": 5,
   "metadata": {
    "id": "rRYSZSiKX4q1"
   },
   "outputs": [],
   "source": [
    "from tkinter import *\n",
    "\n",
    "def iniciar_desenho(evento):\n",
    "    global x0, y0\n",
    "    x0, y0 = evento.x, evento.y\n",
    "    if botao_ativo == botao_mover:\n",
    "        canvas.dtag('all', 'objeto_selecionado')\n",
    "        canvas.tag_raise('current')\n",
    "        canvas.addtag_withtag('objeto_selecionado', 'current')\n",
    "\n",
    "def desenhar(evento):\n",
    "    global x0, y0\n",
    "    if botao_ativo == botao_caneta:\n",
    "        canvas.create_line(x0, y0, evento.x, evento.y, fill=cor.get(), width=espessura.get())\n",
    "        x0, y0 = evento.x, evento.y\n",
    "    elif botao_ativo == botao_borracha:\n",
    "        canvas.create_line(x0, y0, evento.x, evento.y, fill='white', width=espessura.get(), tags='borracha')\n",
    "        x0, y0 = evento.x, evento.y\n",
    "    elif botao_ativo == botao_mover:\n",
    "        canvas.move('objeto_selecionado', evento.x - x0, evento.y - y0)\n",
    "        x0, y0 = evento.x, evento.y\n",
    "\n",
    "def terminar_desenho(evento):\n",
    "    if botao_ativo == botao_circulo:\n",
    "        canvas.create_oval(x0, y0, evento.x, evento.y, fill=cor.get(), width=espessura.get())\n",
    "    elif botao_ativo == botao_quadrado:\n",
    "        canvas.create_rectangle(x0, y0, evento.x, evento.y, fill=cor.get(), width=espessura.get())\n",
    "\n",
    "def definir_botao_ativo(botao):\n",
    "    global botao_ativo\n",
    "    botao_ativo = botao\n",
    "\n",
    "def limpar_canvas():\n",
    "    canvas.delete('all')\n",
    "\n",
    "root = Tk()\n",
    "root.geometry('640x480+100+100')\n",
    "\n",
    "frame = Frame(root, width=150, height=480, bg='grey')\n",
    "frame.pack(side=LEFT, fill=Y)\n",
    "\n",
    "frame_canvas = Frame(root)\n",
    "frame_canvas.pack(side=RIGHT, fill=BOTH)\n",
    "\n",
    "barra_rolagem_x = Scrollbar(frame_canvas, orient=HORIZONTAL)\n",
    "barra_rolagem_x.pack(side=BOTTOM, fill=X)\n",
    "\n",
    "barra_rolagem_y = Scrollbar(frame_canvas)\n",
    "barra_rolagem_y.pack(side=RIGHT, fill=Y)\n",
    "\n",
    "canvas = Canvas(frame_canvas, width=1500, height=1500, bg='white', scrollregion=(0, 0, 1500, 1500), xscrollcommand=barra_rolagem_x.set, yscrollcommand=barra_rolagem_y.set)\n",
    "canvas.pack(side=LEFT, expand=YES, fill=BOTH)\n",
    "\n",
    "barra_rolagem_x.config(command=canvas.xview)\n",
    "barra_rolagem_y.config(command=canvas.yview)\n",
    "\n",
    "cor = StringVar()\n",
    "cor.set('preto')\n",
    "espessura = DoubleVar()\n",
    "espessura.set(1)\n",
    "\n",
    "botao_caneta = Button(frame, text='Caneta', command=lambda: definir_botao_ativo(botao_caneta))\n",
    "botao_caneta.pack(fill=X)\n",
    "\n",
    "botao_circulo = Button(frame, text='Círculo', command=lambda: definir_botao_ativo(botao_circulo))\n",
    "botao_circulo.pack(fill=X)\n",
    "\n",
    "botao_quadrado = Button(frame, text='Quadrado', command=lambda: definir_botao_ativo(botao_quadrado))\n",
    "botao_quadrado.pack(fill=X)\n",
    "\n",
    "botao_borracha = Button(frame, text='Borracha', command=lambda: definir_botao_ativo(botao_borracha))\n",
    "botao_borracha.pack(fill=X)\n",
    "\n",
    "botao_mover = Button(frame, text='Mover', command=lambda: definir_botao_ativo(botao_mover))\n",
    "botao_mover.pack(fill=X)\n",
    "\n",
    "entrada_espessura = Entry(frame, textvariable=espessura)\n",
    "entrada_espessura.pack(fill=X)\n",
    "\n",
    "cores = [('preto', 'black'), ('vermelho', 'red'), ('azul', 'blue'), ('verde', 'green')]\n",
    "for nome, valor in cores:\n",
    "    Radiobutton(frame, text=nome, variable=cor, value=valor).pack(fill=X)\n",
    "\n",
    "botao_limpar = Button(frame, text='Limpar', command=limpar_canvas)\n",
    "botao_limpar.pack(fill=X)\n",
    "\n",
    "botao_ativo = botao_caneta\n",
    "x0, y0 = 0, 0\n",
    "\n",
    "canvas.bind('<B1-Motion>', desenhar)\n",
    "canvas.bind('<Button-1>', iniciar_desenho)\n",
    "canvas.bind('<ButtonRelease-1>', terminar_desenho)\n",
    "\n",
    "root.mainloop()"
   ]
  },
  {
   "cell_type": "markdown",
   "metadata": {
    "id": "24ZIH0OQNsC5"
   },
   "source": [
    "# Avalie"
   ]
  },
  {
   "cell_type": "markdown",
   "metadata": {
    "id": "GFAC2uerOCXP"
   },
   "source": [
    "O que você achou deste notebook? Dê uma nota de 1 a 5:"
   ]
  },
  {
   "cell_type": "code",
   "execution_count": null,
   "metadata": {
    "id": "YulIUCZZOIKR"
   },
   "outputs": [],
   "source": [
    "nota = 0\n",
    "if 1 <= nota <= 5:\n",
    "  print(\"O que achei do notebook: \" + \"😨😞😐🙂🥰\"[nota-1])\n",
    "else:\n",
    "  print(\"Sem nota\")"
   ]
  }
 ],
 "metadata": {
  "colab": {
   "provenance": [],
   "toc_visible": true
  },
  "kernelspec": {
   "display_name": "Python 3 (ipykernel)",
   "language": "python",
   "name": "python3"
  },
  "language_info": {
   "codemirror_mode": {
    "name": "ipython",
    "version": 3
   },
   "file_extension": ".py",
   "mimetype": "text/x-python",
   "name": "python",
   "nbconvert_exporter": "python",
   "pygments_lexer": "ipython3",
   "version": "3.11.7"
  }
 },
 "nbformat": 4,
 "nbformat_minor": 1
}
